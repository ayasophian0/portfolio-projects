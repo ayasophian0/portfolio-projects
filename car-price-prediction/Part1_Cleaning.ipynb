{
 "cells": [
  {
   "cell_type": "markdown",
   "id": "017c155d-d2aa-429e-9b32-48a6dd9a6622",
   "metadata": {},
   "source": [
    "# Car Price Prediction Project (Part I - Cleaning Data)\n",
    "\n",
    "**Project Goal:** \n",
    "\n",
    "To develop a machine learning model capable of accurately predicting the price of cars based on their features.\n",
    "\n",
    "**Notebook Objective:** \n",
    "\n",
    "This notebook focuses on the crucial first phase: data cleaning. The raw dataset, comprising approximately 29,480 car listings with 58 features, presents significant challenges typical of real-world data. Our primary goal here is to transform this raw data into a clean and structured format suitable for subsequent processes such as handling missing values and outlier detection.\n",
    "\n",
    "**Key Challenges Identified:**\n",
    "\n",
    "- Missing Data: Many columns suffer from a high percentage of null values, requiring careful consideration for imputation or removal.\n",
    "- Incorrect Data Types: Numerous columns that represent numerical quantities (e.g., price, Mileage, Power, Engine size, Doors, Seats, CO₂-emissions) are stored as strings (object type). These will need parsing (extracting numbers, removing units like \"km\", \"kW\", \"g/km\") and conversion.\n",
    "- Inconsistent Formatting: Textual data within columns might be inconsistent or require standardization.\n",
    "- Complex Features: Columns like Comfort & Convenience, Entertainment & Media, Safety & Security, and Extras appear to contain lists of amenities as strings, which will need parsing (e.g., one-hot encoding or count features).\n",
    "- Redundancy: Potential redundancy exists (e.g., make_model vs. make and model).\n",
    "- Low Utility Columns: Columns with extremely few non-null values may offer little predictive power and could be candidates for removal.\n",
    "- Date/Time Features: Columns like First registration, General inspection, Last service, and Production date need conversion to a usable format (e.g., age of car, time since last service).\n",
    "\n",
    "**Cleaning Strategy Outline:**\n",
    "\n",
    "This notebook will systematically address these challenges through steps including (but not limited to):\n",
    "- Dropping columns with extremely low non-null counts or low relevance.\n",
    "- Correcting data types:\n",
    "    - Converting numerical data stored as strings to int or float.\n",
    "    - Parsing units (e.g., \"km\", \"kg\", \"kW\", \"HP\", \"cc\", \"€\").\n",
    "\n",
    "By the end of this notebook, we aim to have a significantly cleaner and more structured dataset, laying a solid foundation for handling missing values, detecting and imputing outliers and effective feature engineering."
   ]
  },
  {
   "cell_type": "code",
   "execution_count": 224,
   "id": "14962fda-1761-4e48-879c-b31a4f7e264f",
   "metadata": {},
   "outputs": [],
   "source": [
    "import pandas as pd\n",
    "import numpy as np\n",
    "import seaborn as sns\n",
    "import matplotlib.pyplot as plt\n",
    "\n",
    "import warnings \n",
    "warnings.filterwarnings('ignore')\n",
    "\n",
    "pd.set_option('display.max_columns', 100)\n",
    "pd.set_option('display.max_rows', 1000)"
   ]
  },
  {
   "cell_type": "code",
   "execution_count": 225,
   "id": "758e998e-6739-4a04-85a4-7ed5227b2ee3",
   "metadata": {},
   "outputs": [],
   "source": [
    "df0 = pd.read_json(\"auto_scout_24.json\")\n",
    "df = df0.copy()"
   ]
  },
  {
   "cell_type": "code",
   "execution_count": 226,
   "id": "b094a79e-4fe5-4925-9a4b-e96eb9e3e346",
   "metadata": {
    "scrolled": true
   },
   "outputs": [
    {
     "data": {
      "text/html": [
       "<div>\n",
       "<style scoped>\n",
       "    .dataframe tbody tr th:only-of-type {\n",
       "        vertical-align: middle;\n",
       "    }\n",
       "\n",
       "    .dataframe tbody tr th {\n",
       "        vertical-align: top;\n",
       "    }\n",
       "\n",
       "    .dataframe thead th {\n",
       "        text-align: right;\n",
       "    }\n",
       "</style>\n",
       "<table border=\"1\" class=\"dataframe\">\n",
       "  <thead>\n",
       "    <tr style=\"text-align: right;\">\n",
       "      <th></th>\n",
       "      <th>make_model</th>\n",
       "      <th>short_description</th>\n",
       "      <th>make</th>\n",
       "      <th>model</th>\n",
       "      <th>location</th>\n",
       "      <th>price</th>\n",
       "      <th>Body type</th>\n",
       "      <th>Type</th>\n",
       "      <th>Doors</th>\n",
       "      <th>Country version</th>\n",
       "      <th>Offer number</th>\n",
       "      <th>Warranty</th>\n",
       "      <th>Mileage</th>\n",
       "      <th>First registration</th>\n",
       "      <th>Gearbox</th>\n",
       "      <th>Fuel type</th>\n",
       "      <th>Colour</th>\n",
       "      <th>Paint</th>\n",
       "      <th>desc</th>\n",
       "      <th>seller</th>\n",
       "      <th>Seats</th>\n",
       "      <th>Power</th>\n",
       "      <th>Engine size</th>\n",
       "      <th>Gears</th>\n",
       "      <th>CO₂-emissions</th>\n",
       "      <th>Manufacturer colour</th>\n",
       "      <th>Drivetrain</th>\n",
       "      <th>Cylinders</th>\n",
       "      <th>Fuel consumption</th>\n",
       "      <th>\\nComfort &amp; Convenience\\n</th>\n",
       "      <th>\\nEntertainment &amp; Media\\n</th>\n",
       "      <th>\\nSafety &amp; Security\\n</th>\n",
       "      <th>\\nExtras\\n</th>\n",
       "      <th>Empty weight</th>\n",
       "      <th>Model code</th>\n",
       "      <th>General inspection</th>\n",
       "      <th>Last service</th>\n",
       "      <th>Full service history</th>\n",
       "      <th>Non-smoker vehicle</th>\n",
       "      <th>Emission class</th>\n",
       "      <th>Emissions sticker</th>\n",
       "      <th>Upholstery colour</th>\n",
       "      <th>Upholstery</th>\n",
       "      <th>Production date</th>\n",
       "      <th>Previous owner</th>\n",
       "      <th>Other fuel types</th>\n",
       "      <th>Power consumption</th>\n",
       "      <th>Energy efficiency class</th>\n",
       "      <th>CO₂-efficiency</th>\n",
       "      <th>Fuel consumption (WLTP)</th>\n",
       "      <th>CO₂-emissions (WLTP)</th>\n",
       "      <th>Available from</th>\n",
       "      <th>Taxi or rental car</th>\n",
       "      <th>Availability</th>\n",
       "      <th>Last timing belt change</th>\n",
       "      <th>Electric Range (WLTP)</th>\n",
       "      <th>Power consumption (WLTP)</th>\n",
       "      <th>Battery Ownership</th>\n",
       "    </tr>\n",
       "  </thead>\n",
       "  <tbody>\n",
       "    <tr>\n",
       "      <th>0</th>\n",
       "      <td>Mercedes-Benz A 160</td>\n",
       "      <td>CDi</td>\n",
       "      <td>\\nMercedes-Benz\\n</td>\n",
       "      <td>[\\n, A 160 ,\\n]</td>\n",
       "      <td>P.I. EL PALMAR C/FORJA 6,  11500 PUERTO DE SAN...</td>\n",
       "      <td>€ 16,950.-</td>\n",
       "      <td>[\\n, Compact, \\n]</td>\n",
       "      <td>[\\n, Used, \\n]</td>\n",
       "      <td>[\\n, 5, \\n]</td>\n",
       "      <td>[\\n, Spain, \\n]</td>\n",
       "      <td>[\\n, 7468157, \\n]</td>\n",
       "      <td>[\\n, 24 months, \\n]</td>\n",
       "      <td>120,200 km</td>\n",
       "      <td>06/2016</td>\n",
       "      <td>[\\nManual\\n]</td>\n",
       "      <td>Diesel</td>\n",
       "      <td>Black</td>\n",
       "      <td>Metallic</td>\n",
       "      <td>[ , Precio al contado: 16950 euros,  ,  , Vehí...</td>\n",
       "      <td>Dealer</td>\n",
       "      <td>NaN</td>\n",
       "      <td>NaN</td>\n",
       "      <td>NaN</td>\n",
       "      <td>NaN</td>\n",
       "      <td>NaN</td>\n",
       "      <td>NaN</td>\n",
       "      <td>NaN</td>\n",
       "      <td>NaN</td>\n",
       "      <td>NaN</td>\n",
       "      <td>NaN</td>\n",
       "      <td>NaN</td>\n",
       "      <td>NaN</td>\n",
       "      <td>NaN</td>\n",
       "      <td>NaN</td>\n",
       "      <td>NaN</td>\n",
       "      <td>NaN</td>\n",
       "      <td>NaN</td>\n",
       "      <td>NaN</td>\n",
       "      <td>NaN</td>\n",
       "      <td>NaN</td>\n",
       "      <td>NaN</td>\n",
       "      <td>NaN</td>\n",
       "      <td>NaN</td>\n",
       "      <td>NaN</td>\n",
       "      <td>NaN</td>\n",
       "      <td>NaN</td>\n",
       "      <td>NaN</td>\n",
       "      <td>NaN</td>\n",
       "      <td>NaN</td>\n",
       "      <td>NaN</td>\n",
       "      <td>NaN</td>\n",
       "      <td>NaN</td>\n",
       "      <td>NaN</td>\n",
       "      <td>NaN</td>\n",
       "      <td>NaN</td>\n",
       "      <td>NaN</td>\n",
       "      <td>NaN</td>\n",
       "      <td>NaN</td>\n",
       "    </tr>\n",
       "    <tr>\n",
       "      <th>1</th>\n",
       "      <td>Mercedes-Benz EQE 350</td>\n",
       "      <td>350+</td>\n",
       "      <td>\\nMercedes-Benz\\n</td>\n",
       "      <td>[\\n, EQE 350 ,\\n]</td>\n",
       "      <td>APARTADO DE CORREOS 1032,  26140 LOGROÑO, ES</td>\n",
       "      <td>€ 80,900.-</td>\n",
       "      <td>[\\n, Compact, \\n]</td>\n",
       "      <td>[\\n, Pre-registered, \\n]</td>\n",
       "      <td>[\\n, 4, \\n]</td>\n",
       "      <td>[\\n, Spain, \\n]</td>\n",
       "      <td>[\\n, 7054863, \\n]</td>\n",
       "      <td>[\\n, 24 months, \\n]</td>\n",
       "      <td>5,000 km</td>\n",
       "      <td>06/2022</td>\n",
       "      <td>[\\nAutomatic\\n]</td>\n",
       "      <td>Electric</td>\n",
       "      <td>NaN</td>\n",
       "      <td>NaN</td>\n",
       "      <td>[ , Precio al contado: 88900 euros,  , AUTO OJ...</td>\n",
       "      <td>Dealer</td>\n",
       "      <td>[\\n, 5, \\n]</td>\n",
       "      <td>[\\n215 kW (292 hp)\\n]</td>\n",
       "      <td>[\\n1 cc\\n]</td>\n",
       "      <td>[\\n9\\n]</td>\n",
       "      <td>0 g/km (comb.)</td>\n",
       "      <td>Negro Obsidiana</td>\n",
       "      <td>NaN</td>\n",
       "      <td>NaN</td>\n",
       "      <td>NaN</td>\n",
       "      <td>NaN</td>\n",
       "      <td>NaN</td>\n",
       "      <td>NaN</td>\n",
       "      <td>NaN</td>\n",
       "      <td>NaN</td>\n",
       "      <td>NaN</td>\n",
       "      <td>NaN</td>\n",
       "      <td>NaN</td>\n",
       "      <td>NaN</td>\n",
       "      <td>NaN</td>\n",
       "      <td>NaN</td>\n",
       "      <td>NaN</td>\n",
       "      <td>NaN</td>\n",
       "      <td>NaN</td>\n",
       "      <td>NaN</td>\n",
       "      <td>NaN</td>\n",
       "      <td>NaN</td>\n",
       "      <td>NaN</td>\n",
       "      <td>NaN</td>\n",
       "      <td>NaN</td>\n",
       "      <td>NaN</td>\n",
       "      <td>NaN</td>\n",
       "      <td>NaN</td>\n",
       "      <td>NaN</td>\n",
       "      <td>NaN</td>\n",
       "      <td>NaN</td>\n",
       "      <td>NaN</td>\n",
       "      <td>NaN</td>\n",
       "      <td>NaN</td>\n",
       "    </tr>\n",
       "    <tr>\n",
       "      <th>2</th>\n",
       "      <td>Mercedes-Benz A 45 AMG</td>\n",
       "      <td>S 4Matic+ 8G-DCT</td>\n",
       "      <td>\\nMercedes-Benz\\n</td>\n",
       "      <td>[\\n, A 45 AMG ,\\n]</td>\n",
       "      <td>PORT. TARRACO, MOLL DE LLEVANT, Nº 5, LOC. 6-8...</td>\n",
       "      <td>€ 69,900.-</td>\n",
       "      <td>[\\n, Compact, \\n]</td>\n",
       "      <td>[\\n, Used, \\n]</td>\n",
       "      <td>[\\n, 5, \\n]</td>\n",
       "      <td>[\\n, Spain, \\n]</td>\n",
       "      <td>[\\n, 7410454, \\n]</td>\n",
       "      <td>[\\n, 12 months, \\n]</td>\n",
       "      <td>18,900 km</td>\n",
       "      <td>07/2020</td>\n",
       "      <td>[\\nAutomatic\\n]</td>\n",
       "      <td>Gasoline</td>\n",
       "      <td>Grey</td>\n",
       "      <td>NaN</td>\n",
       "      <td>[Gris MANUFAKTUR mountaingrau magno,  , Linea/...</td>\n",
       "      <td>Dealer</td>\n",
       "      <td>[\\n, 5, \\n]</td>\n",
       "      <td>[\\n310 kW (421 hp)\\n]</td>\n",
       "      <td>[\\n1,991 cc\\n]</td>\n",
       "      <td>[\\n8\\n]</td>\n",
       "      <td>NaN</td>\n",
       "      <td>Mountaingrau magno</td>\n",
       "      <td>[\\n, 4WD, \\n]</td>\n",
       "      <td>[\\n4\\n]</td>\n",
       "      <td>[[8.4 l/100 km (comb.)], [10.9 l/100 km (city)...</td>\n",
       "      <td>NaN</td>\n",
       "      <td>NaN</td>\n",
       "      <td>NaN</td>\n",
       "      <td>NaN</td>\n",
       "      <td>NaN</td>\n",
       "      <td>NaN</td>\n",
       "      <td>NaN</td>\n",
       "      <td>NaN</td>\n",
       "      <td>NaN</td>\n",
       "      <td>NaN</td>\n",
       "      <td>NaN</td>\n",
       "      <td>NaN</td>\n",
       "      <td>NaN</td>\n",
       "      <td>NaN</td>\n",
       "      <td>NaN</td>\n",
       "      <td>NaN</td>\n",
       "      <td>NaN</td>\n",
       "      <td>NaN</td>\n",
       "      <td>NaN</td>\n",
       "      <td>NaN</td>\n",
       "      <td>NaN</td>\n",
       "      <td>NaN</td>\n",
       "      <td>NaN</td>\n",
       "      <td>NaN</td>\n",
       "      <td>NaN</td>\n",
       "      <td>NaN</td>\n",
       "      <td>NaN</td>\n",
       "      <td>NaN</td>\n",
       "      <td>NaN</td>\n",
       "    </tr>\n",
       "    <tr>\n",
       "      <th>3</th>\n",
       "      <td>Mercedes-Benz A 35 AMG</td>\n",
       "      <td>4Matic+ 7G-DCT</td>\n",
       "      <td>\\nMercedes-Benz\\n</td>\n",
       "      <td>[\\n, A 35 AMG ,\\n]</td>\n",
       "      <td>Carrer de Provença, 31 Local,  8029 BARCELONA, ES</td>\n",
       "      <td>€ 46,990.-</td>\n",
       "      <td>[\\n, Compact, \\n]</td>\n",
       "      <td>[\\n, Used, \\n]</td>\n",
       "      <td>[\\n, 5, \\n]</td>\n",
       "      <td>[\\n, Spain, \\n]</td>\n",
       "      <td>[\\n, 7464503, \\n]</td>\n",
       "      <td>[\\n, 12 months, \\n]</td>\n",
       "      <td>18,995 km</td>\n",
       "      <td>01/2020</td>\n",
       "      <td>[\\nAutomatic\\n]</td>\n",
       "      <td>Gasoline</td>\n",
       "      <td>Yellow</td>\n",
       "      <td>NaN</td>\n",
       "      <td>[ , Precio al contado: 48990 euros,  ,  , BONI...</td>\n",
       "      <td>Dealer</td>\n",
       "      <td>[\\n, 5, \\n]</td>\n",
       "      <td>[\\n225 kW (306 hp)\\n]</td>\n",
       "      <td>[\\n1,991 cc\\n]</td>\n",
       "      <td>[\\n7\\n]</td>\n",
       "      <td>NaN</td>\n",
       "      <td>Amarillo Sol</td>\n",
       "      <td>[\\n, 4WD, \\n]</td>\n",
       "      <td>[\\n4\\n]</td>\n",
       "      <td>[[7.3 l/100 km (comb.)], [9.3 l/100 km (city)]...</td>\n",
       "      <td>[Air conditioning, Automatic climate control, ...</td>\n",
       "      <td>[USB]</td>\n",
       "      <td>[ABS, Central door lock, Driver-side airbag, E...</td>\n",
       "      <td>[Sport seats]</td>\n",
       "      <td>NaN</td>\n",
       "      <td>NaN</td>\n",
       "      <td>NaN</td>\n",
       "      <td>NaN</td>\n",
       "      <td>NaN</td>\n",
       "      <td>NaN</td>\n",
       "      <td>NaN</td>\n",
       "      <td>NaN</td>\n",
       "      <td>NaN</td>\n",
       "      <td>NaN</td>\n",
       "      <td>NaN</td>\n",
       "      <td>NaN</td>\n",
       "      <td>NaN</td>\n",
       "      <td>NaN</td>\n",
       "      <td>NaN</td>\n",
       "      <td>NaN</td>\n",
       "      <td>NaN</td>\n",
       "      <td>NaN</td>\n",
       "      <td>NaN</td>\n",
       "      <td>NaN</td>\n",
       "      <td>NaN</td>\n",
       "      <td>NaN</td>\n",
       "      <td>NaN</td>\n",
       "      <td>NaN</td>\n",
       "      <td>NaN</td>\n",
       "    </tr>\n",
       "    <tr>\n",
       "      <th>4</th>\n",
       "      <td>Mercedes-Benz A 45 AMG</td>\n",
       "      <td>200CDI BE Line 4M 7G-DCT</td>\n",
       "      <td>\\nMercedes-Benz\\n</td>\n",
       "      <td>[\\n, A 45 AMG ,\\n]</td>\n",
       "      <td>CARRIL ARAGONES 4,  30007 CASILLAS, ES</td>\n",
       "      <td>€ 16,800.-</td>\n",
       "      <td>[\\n, Compact, \\n]</td>\n",
       "      <td>[\\n, Used, \\n]</td>\n",
       "      <td>[\\n, 5, \\n]</td>\n",
       "      <td>[\\n, Spain, \\n]</td>\n",
       "      <td>[\\n, 7127931, \\n]</td>\n",
       "      <td>[\\n, 12 months, \\n]</td>\n",
       "      <td>197,000 km</td>\n",
       "      <td>09/2015</td>\n",
       "      <td>[\\nAutomatic\\n]</td>\n",
       "      <td>Diesel</td>\n",
       "      <td>White</td>\n",
       "      <td>Metallic</td>\n",
       "      <td>[ , Precio al contado: 17400 euros,  , Vehícul...</td>\n",
       "      <td>Dealer</td>\n",
       "      <td>[\\n, 5, \\n]</td>\n",
       "      <td>[\\n100 kW (136 hp)\\n]</td>\n",
       "      <td>[\\n2,143 cc\\n]</td>\n",
       "      <td>[\\n7\\n]</td>\n",
       "      <td>NaN</td>\n",
       "      <td>NaN</td>\n",
       "      <td>[\\n, 4WD, \\n]</td>\n",
       "      <td>[\\n4\\n]</td>\n",
       "      <td>[[4.9 l/100 km (comb.)], [5.7 l/100 km (city)]...</td>\n",
       "      <td>[Air conditioning, Electrical side mirrors, Mu...</td>\n",
       "      <td>[Bluetooth, CD player, MP3, USB]</td>\n",
       "      <td>[ABS, Central door lock, Driver-side airbag, E...</td>\n",
       "      <td>NaN</td>\n",
       "      <td>[\\n1,545 kg\\n]</td>\n",
       "      <td>NaN</td>\n",
       "      <td>NaN</td>\n",
       "      <td>NaN</td>\n",
       "      <td>NaN</td>\n",
       "      <td>NaN</td>\n",
       "      <td>NaN</td>\n",
       "      <td>NaN</td>\n",
       "      <td>NaN</td>\n",
       "      <td>NaN</td>\n",
       "      <td>NaN</td>\n",
       "      <td>NaN</td>\n",
       "      <td>NaN</td>\n",
       "      <td>NaN</td>\n",
       "      <td>NaN</td>\n",
       "      <td>NaN</td>\n",
       "      <td>NaN</td>\n",
       "      <td>NaN</td>\n",
       "      <td>NaN</td>\n",
       "      <td>NaN</td>\n",
       "      <td>NaN</td>\n",
       "      <td>NaN</td>\n",
       "      <td>NaN</td>\n",
       "      <td>NaN</td>\n",
       "      <td>NaN</td>\n",
       "    </tr>\n",
       "  </tbody>\n",
       "</table>\n",
       "</div>"
      ],
      "text/plain": [
       "               make_model         short_description               make  \\\n",
       "0     Mercedes-Benz A 160                       CDi  \\nMercedes-Benz\\n   \n",
       "1   Mercedes-Benz EQE 350                      350+  \\nMercedes-Benz\\n   \n",
       "2  Mercedes-Benz A 45 AMG          S 4Matic+ 8G-DCT  \\nMercedes-Benz\\n   \n",
       "3  Mercedes-Benz A 35 AMG            4Matic+ 7G-DCT  \\nMercedes-Benz\\n   \n",
       "4  Mercedes-Benz A 45 AMG  200CDI BE Line 4M 7G-DCT  \\nMercedes-Benz\\n   \n",
       "\n",
       "                model                                           location  \\\n",
       "0     [\\n, A 160 ,\\n]  P.I. EL PALMAR C/FORJA 6,  11500 PUERTO DE SAN...   \n",
       "1   [\\n, EQE 350 ,\\n]       APARTADO DE CORREOS 1032,  26140 LOGROÑO, ES   \n",
       "2  [\\n, A 45 AMG ,\\n]  PORT. TARRACO, MOLL DE LLEVANT, Nº 5, LOC. 6-8...   \n",
       "3  [\\n, A 35 AMG ,\\n]  Carrer de Provença, 31 Local,  8029 BARCELONA, ES   \n",
       "4  [\\n, A 45 AMG ,\\n]             CARRIL ARAGONES 4,  30007 CASILLAS, ES   \n",
       "\n",
       "        price          Body type                      Type        Doors  \\\n",
       "0  € 16,950.-  [\\n, Compact, \\n]            [\\n, Used, \\n]  [\\n, 5, \\n]   \n",
       "1  € 80,900.-  [\\n, Compact, \\n]  [\\n, Pre-registered, \\n]  [\\n, 4, \\n]   \n",
       "2  € 69,900.-  [\\n, Compact, \\n]            [\\n, Used, \\n]  [\\n, 5, \\n]   \n",
       "3  € 46,990.-  [\\n, Compact, \\n]            [\\n, Used, \\n]  [\\n, 5, \\n]   \n",
       "4  € 16,800.-  [\\n, Compact, \\n]            [\\n, Used, \\n]  [\\n, 5, \\n]   \n",
       "\n",
       "   Country version       Offer number             Warranty     Mileage  \\\n",
       "0  [\\n, Spain, \\n]  [\\n, 7468157, \\n]  [\\n, 24 months, \\n]  120,200 km   \n",
       "1  [\\n, Spain, \\n]  [\\n, 7054863, \\n]  [\\n, 24 months, \\n]    5,000 km   \n",
       "2  [\\n, Spain, \\n]  [\\n, 7410454, \\n]  [\\n, 12 months, \\n]   18,900 km   \n",
       "3  [\\n, Spain, \\n]  [\\n, 7464503, \\n]  [\\n, 12 months, \\n]   18,995 km   \n",
       "4  [\\n, Spain, \\n]  [\\n, 7127931, \\n]  [\\n, 12 months, \\n]  197,000 km   \n",
       "\n",
       "  First registration          Gearbox Fuel type  Colour     Paint  \\\n",
       "0            06/2016     [\\nManual\\n]    Diesel   Black  Metallic   \n",
       "1            06/2022  [\\nAutomatic\\n]  Electric     NaN       NaN   \n",
       "2            07/2020  [\\nAutomatic\\n]  Gasoline    Grey       NaN   \n",
       "3            01/2020  [\\nAutomatic\\n]  Gasoline  Yellow       NaN   \n",
       "4            09/2015  [\\nAutomatic\\n]    Diesel   White  Metallic   \n",
       "\n",
       "                                                desc  seller        Seats  \\\n",
       "0  [ , Precio al contado: 16950 euros,  ,  , Vehí...  Dealer          NaN   \n",
       "1  [ , Precio al contado: 88900 euros,  , AUTO OJ...  Dealer  [\\n, 5, \\n]   \n",
       "2  [Gris MANUFAKTUR mountaingrau magno,  , Linea/...  Dealer  [\\n, 5, \\n]   \n",
       "3  [ , Precio al contado: 48990 euros,  ,  , BONI...  Dealer  [\\n, 5, \\n]   \n",
       "4  [ , Precio al contado: 17400 euros,  , Vehícul...  Dealer  [\\n, 5, \\n]   \n",
       "\n",
       "                   Power     Engine size    Gears   CO₂-emissions  \\\n",
       "0                    NaN             NaN      NaN             NaN   \n",
       "1  [\\n215 kW (292 hp)\\n]      [\\n1 cc\\n]  [\\n9\\n]  0 g/km (comb.)   \n",
       "2  [\\n310 kW (421 hp)\\n]  [\\n1,991 cc\\n]  [\\n8\\n]             NaN   \n",
       "3  [\\n225 kW (306 hp)\\n]  [\\n1,991 cc\\n]  [\\n7\\n]             NaN   \n",
       "4  [\\n100 kW (136 hp)\\n]  [\\n2,143 cc\\n]  [\\n7\\n]             NaN   \n",
       "\n",
       "  Manufacturer colour     Drivetrain Cylinders  \\\n",
       "0                 NaN            NaN       NaN   \n",
       "1     Negro Obsidiana            NaN       NaN   \n",
       "2  Mountaingrau magno  [\\n, 4WD, \\n]   [\\n4\\n]   \n",
       "3        Amarillo Sol  [\\n, 4WD, \\n]   [\\n4\\n]   \n",
       "4                 NaN  [\\n, 4WD, \\n]   [\\n4\\n]   \n",
       "\n",
       "                                    Fuel consumption  \\\n",
       "0                                                NaN   \n",
       "1                                                NaN   \n",
       "2  [[8.4 l/100 km (comb.)], [10.9 l/100 km (city)...   \n",
       "3  [[7.3 l/100 km (comb.)], [9.3 l/100 km (city)]...   \n",
       "4  [[4.9 l/100 km (comb.)], [5.7 l/100 km (city)]...   \n",
       "\n",
       "                           \\nComfort & Convenience\\n  \\\n",
       "0                                                NaN   \n",
       "1                                                NaN   \n",
       "2                                                NaN   \n",
       "3  [Air conditioning, Automatic climate control, ...   \n",
       "4  [Air conditioning, Electrical side mirrors, Mu...   \n",
       "\n",
       "          \\nEntertainment & Media\\n  \\\n",
       "0                               NaN   \n",
       "1                               NaN   \n",
       "2                               NaN   \n",
       "3                             [USB]   \n",
       "4  [Bluetooth, CD player, MP3, USB]   \n",
       "\n",
       "                               \\nSafety & Security\\n     \\nExtras\\n  \\\n",
       "0                                                NaN            NaN   \n",
       "1                                                NaN            NaN   \n",
       "2                                                NaN            NaN   \n",
       "3  [ABS, Central door lock, Driver-side airbag, E...  [Sport seats]   \n",
       "4  [ABS, Central door lock, Driver-side airbag, E...            NaN   \n",
       "\n",
       "     Empty weight Model code General inspection Last service  \\\n",
       "0             NaN        NaN                NaN          NaN   \n",
       "1             NaN        NaN                NaN          NaN   \n",
       "2             NaN        NaN                NaN          NaN   \n",
       "3             NaN        NaN                NaN          NaN   \n",
       "4  [\\n1,545 kg\\n]        NaN                NaN          NaN   \n",
       "\n",
       "  Full service history Non-smoker vehicle Emission class Emissions sticker  \\\n",
       "0                  NaN                NaN            NaN               NaN   \n",
       "1                  NaN                NaN            NaN               NaN   \n",
       "2                  NaN                NaN            NaN               NaN   \n",
       "3                  NaN                NaN            NaN               NaN   \n",
       "4                  NaN                NaN            NaN               NaN   \n",
       "\n",
       "  Upholstery colour Upholstery  Production date Previous owner  \\\n",
       "0               NaN        NaN              NaN            NaN   \n",
       "1               NaN        NaN              NaN            NaN   \n",
       "2               NaN        NaN              NaN            NaN   \n",
       "3               NaN        NaN              NaN            NaN   \n",
       "4               NaN        NaN              NaN            NaN   \n",
       "\n",
       "  Other fuel types Power consumption Energy efficiency class CO₂-efficiency  \\\n",
       "0              NaN               NaN                     NaN            NaN   \n",
       "1              NaN               NaN                     NaN            NaN   \n",
       "2              NaN               NaN                     NaN            NaN   \n",
       "3              NaN               NaN                     NaN            NaN   \n",
       "4              NaN               NaN                     NaN            NaN   \n",
       "\n",
       "  Fuel consumption (WLTP) CO₂-emissions (WLTP) Available from  \\\n",
       "0                     NaN                  NaN            NaN   \n",
       "1                     NaN                  NaN            NaN   \n",
       "2                     NaN                  NaN            NaN   \n",
       "3                     NaN                  NaN            NaN   \n",
       "4                     NaN                  NaN            NaN   \n",
       "\n",
       "  Taxi or rental car Availability Last timing belt change  \\\n",
       "0                NaN          NaN                     NaN   \n",
       "1                NaN          NaN                     NaN   \n",
       "2                NaN          NaN                     NaN   \n",
       "3                NaN          NaN                     NaN   \n",
       "4                NaN          NaN                     NaN   \n",
       "\n",
       "  Electric Range (WLTP) Power consumption (WLTP) Battery Ownership  \n",
       "0                   NaN                      NaN               NaN  \n",
       "1                   NaN                      NaN               NaN  \n",
       "2                   NaN                      NaN               NaN  \n",
       "3                   NaN                      NaN               NaN  \n",
       "4                   NaN                      NaN               NaN  "
      ]
     },
     "execution_count": 226,
     "metadata": {},
     "output_type": "execute_result"
    }
   ],
   "source": [
    "df.head()"
   ]
  },
  {
   "cell_type": "code",
   "execution_count": 227,
   "id": "0446188d-99f6-4c2b-854b-2aff66b5888c",
   "metadata": {
    "scrolled": true
   },
   "outputs": [
    {
     "name": "stdout",
     "output_type": "stream",
     "text": [
      "<class 'pandas.core.frame.DataFrame'>\n",
      "RangeIndex: 29480 entries, 0 to 29479\n",
      "Data columns (total 58 columns):\n",
      " #   Column                    Non-Null Count  Dtype  \n",
      "---  ------                    --------------  -----  \n",
      " 0   make_model                28630 non-null  object \n",
      " 1   short_description         28630 non-null  object \n",
      " 2   make                      28630 non-null  object \n",
      " 3   model                     28630 non-null  object \n",
      " 4   location                  28630 non-null  object \n",
      " 5   price                     28630 non-null  object \n",
      " 6   Body type                 28630 non-null  object \n",
      " 7   Type                      28630 non-null  object \n",
      " 8   Doors                     28271 non-null  object \n",
      " 9   Country version           16889 non-null  object \n",
      " 10  Offer number              23100 non-null  object \n",
      " 11  Warranty                  15784 non-null  object \n",
      " 12  Mileage                   28629 non-null  object \n",
      " 13  First registration        28628 non-null  object \n",
      " 14  Gearbox                   28382 non-null  object \n",
      " 15  Fuel type                 26843 non-null  object \n",
      " 16  Colour                    26906 non-null  object \n",
      " 17  Paint                     14495 non-null  object \n",
      " 18  desc                      28047 non-null  object \n",
      " 19  seller                    28630 non-null  object \n",
      " 20  Seats                     25505 non-null  object \n",
      " 21  Power                     28058 non-null  object \n",
      " 22  Engine size               27227 non-null  object \n",
      " 23  Gears                     18954 non-null  object \n",
      " 24  CO₂-emissions             18594 non-null  object \n",
      " 25  Manufacturer colour       21787 non-null  object \n",
      " 26  Drivetrain                16893 non-null  object \n",
      " 27  Cylinders                 18852 non-null  object \n",
      " 28  Fuel consumption          23385 non-null  object \n",
      " 29  \n",
      "Comfort & Convenience\n",
      "   25433 non-null  object \n",
      " 30  \n",
      "Entertainment & Media\n",
      "   23644 non-null  object \n",
      " 31  \n",
      "Safety & Security\n",
      "       25415 non-null  object \n",
      " 32  \n",
      "Extras\n",
      "                  23480 non-null  object \n",
      " 33  Empty weight              17758 non-null  object \n",
      " 34  Model code                8367 non-null   object \n",
      " 35  General inspection        12254 non-null  object \n",
      " 36  Last service              2003 non-null   object \n",
      " 37  Full service history      12565 non-null  object \n",
      " 38  Non-smoker vehicle        11594 non-null  object \n",
      " 39  Emission class            17859 non-null  object \n",
      " 40  Emissions sticker         9414 non-null   object \n",
      " 41  Upholstery colour         14569 non-null  object \n",
      " 42  Upholstery                18610 non-null  object \n",
      " 43  Production date           5908 non-null   float64\n",
      " 44  Previous owner            14015 non-null  object \n",
      " 45  Other fuel types          2313 non-null   object \n",
      " 46  Power consumption         515 non-null    object \n",
      " 47  Energy efficiency class   7804 non-null   object \n",
      " 48  CO₂-efficiency            7804 non-null   object \n",
      " 49  Fuel consumption (WLTP)   100 non-null    object \n",
      " 50  CO₂-emissions (WLTP)      116 non-null    object \n",
      " 51  Available from            393 non-null    object \n",
      " 52  Taxi or rental car        422 non-null    object \n",
      " 53  Availability              301 non-null    object \n",
      " 54  Last timing belt change   572 non-null    object \n",
      " 55  Electric Range (WLTP)     16 non-null     object \n",
      " 56  Power consumption (WLTP)  16 non-null     object \n",
      " 57  Battery Ownership         7 non-null      object \n",
      "dtypes: float64(1), object(57)\n",
      "memory usage: 13.0+ MB\n"
     ]
    }
   ],
   "source": [
    "df.info()"
   ]
  },
  {
   "cell_type": "code",
   "execution_count": 228,
   "id": "ac04d41e-831e-4939-a0fa-b20704d3dd32",
   "metadata": {},
   "outputs": [
    {
     "data": {
      "text/plain": [
       "Index(['make_model', 'short_description', 'make', 'model', 'location', 'price',\n",
       "       'Body type', 'Type', 'Doors', 'Country version', 'Offer number',\n",
       "       'Warranty', 'Mileage', 'First registration', 'Gearbox', 'Fuel type',\n",
       "       'Colour', 'Paint', 'desc', 'seller', 'Seats', 'Power', 'Engine size',\n",
       "       'Gears', 'CO₂-emissions', 'Manufacturer colour', 'Drivetrain',\n",
       "       'Cylinders', 'Fuel consumption', '\\nComfort & Convenience\\n',\n",
       "       '\\nEntertainment & Media\\n', '\\nSafety & Security\\n', '\\nExtras\\n',\n",
       "       'Empty weight', 'Model code', 'General inspection', 'Last service',\n",
       "       'Full service history', 'Non-smoker vehicle', 'Emission class',\n",
       "       'Emissions sticker', 'Upholstery colour', 'Upholstery',\n",
       "       'Production date', 'Previous owner', 'Other fuel types',\n",
       "       'Power consumption', 'Energy efficiency class', 'CO₂-efficiency',\n",
       "       'Fuel consumption (WLTP)', 'CO₂-emissions (WLTP)', 'Available from',\n",
       "       'Taxi or rental car', 'Availability', 'Last timing belt change',\n",
       "       'Electric Range (WLTP)', 'Power consumption (WLTP)',\n",
       "       'Battery Ownership'],\n",
       "      dtype='object')"
      ]
     },
     "execution_count": 228,
     "metadata": {},
     "output_type": "execute_result"
    }
   ],
   "source": [
    "df.columns"
   ]
  },
  {
   "cell_type": "code",
   "execution_count": 229,
   "id": "d3287ed9-3f69-470b-9c15-dd2ff3ff7e69",
   "metadata": {},
   "outputs": [],
   "source": [
    "new_columns = ['make_model', 'short_description', 'make', 'model', 'location', 'price',\n",
    "       'body_type', 'type', 'doors', 'country_version', 'offer_number',\n",
    "       'warranty', 'mileage', 'first_registration', 'gearbox', 'fuel_type',\n",
    "       'color', 'paint', 'description', 'seller', 'seats', 'power', 'engine_size',\n",
    "       'gears', 'co2_emissions', 'manufacturer_color', 'drivetrain',\n",
    "       'cylinders', 'fuel_consumption', 'comfort_convenience',\n",
    "       'entertainment_media', 'safety_security', 'extras',\n",
    "       'empty_weight', 'model_code', 'general_inspection', 'last_service',\n",
    "       'full_service_history', 'non_smoker_vehicle', 'emission_class',\n",
    "       'emissions_sticker', 'upholstery_color', 'upholstery',\n",
    "       'production_date', 'previous_owner', 'other_fuel_types',\n",
    "       'power_consumption', 'energy_efficiency_class', 'co2_efficiency',\n",
    "       'fuel_consumption_WLTP', 'co2_emissions_WLTP', 'available_from',\n",
    "       'taxi_or_rental', 'availability', 'last_timing_belt_change',\n",
    "       'electric_range_WLTP', 'power_consumption_WLTP',\n",
    "       'battery_ownership']\n",
    "\n",
    "df.columns = new_columns"
   ]
  },
  {
   "cell_type": "code",
   "execution_count": 230,
   "id": "57c905f2-0a6e-4da4-84c8-e2b191240ec3",
   "metadata": {},
   "outputs": [],
   "source": [
    "null_percent = df.isnull().sum() / len(df) * 100\n",
    "null_cols = null_percent[null_percent > 70].index\n",
    "\n",
    "df.drop(null_cols, axis=1, inplace=True)"
   ]
  },
  {
   "cell_type": "code",
   "execution_count": 231,
   "id": "2aab7716-1cd3-448f-b16c-758b89873aa0",
   "metadata": {},
   "outputs": [
    {
     "data": {
      "text/plain": [
       "(29480, 42)"
      ]
     },
     "execution_count": 231,
     "metadata": {},
     "output_type": "execute_result"
    }
   ],
   "source": [
    "df.shape"
   ]
  },
  {
   "cell_type": "code",
   "execution_count": 232,
   "id": "f17e2678-04fd-4f25-99b9-ecaa3c538ee8",
   "metadata": {},
   "outputs": [
    {
     "data": {
      "text/html": [
       "<div>\n",
       "<style scoped>\n",
       "    .dataframe tbody tr th:only-of-type {\n",
       "        vertical-align: middle;\n",
       "    }\n",
       "\n",
       "    .dataframe tbody tr th {\n",
       "        vertical-align: top;\n",
       "    }\n",
       "\n",
       "    .dataframe thead th {\n",
       "        text-align: right;\n",
       "    }\n",
       "</style>\n",
       "<table border=\"1\" class=\"dataframe\">\n",
       "  <thead>\n",
       "    <tr style=\"text-align: right;\">\n",
       "      <th></th>\n",
       "      <th>make_model</th>\n",
       "      <th>short_description</th>\n",
       "      <th>make</th>\n",
       "      <th>model</th>\n",
       "      <th>location</th>\n",
       "      <th>price</th>\n",
       "      <th>body_type</th>\n",
       "      <th>type</th>\n",
       "      <th>doors</th>\n",
       "      <th>country_version</th>\n",
       "      <th>offer_number</th>\n",
       "      <th>warranty</th>\n",
       "      <th>mileage</th>\n",
       "      <th>first_registration</th>\n",
       "      <th>gearbox</th>\n",
       "      <th>fuel_type</th>\n",
       "      <th>color</th>\n",
       "      <th>paint</th>\n",
       "      <th>description</th>\n",
       "      <th>seller</th>\n",
       "      <th>seats</th>\n",
       "      <th>power</th>\n",
       "      <th>engine_size</th>\n",
       "      <th>gears</th>\n",
       "      <th>co2_emissions</th>\n",
       "      <th>manufacturer_color</th>\n",
       "      <th>drivetrain</th>\n",
       "      <th>cylinders</th>\n",
       "      <th>fuel_consumption</th>\n",
       "      <th>comfort_convenience</th>\n",
       "      <th>entertainment_media</th>\n",
       "      <th>safety_security</th>\n",
       "      <th>extras</th>\n",
       "      <th>empty_weight</th>\n",
       "      <th>general_inspection</th>\n",
       "      <th>full_service_history</th>\n",
       "      <th>non_smoker_vehicle</th>\n",
       "      <th>emission_class</th>\n",
       "      <th>emissions_sticker</th>\n",
       "      <th>upholstery_color</th>\n",
       "      <th>upholstery</th>\n",
       "      <th>previous_owner</th>\n",
       "    </tr>\n",
       "  </thead>\n",
       "  <tbody>\n",
       "    <tr>\n",
       "      <th>22213</th>\n",
       "      <td>Ford Mustang</td>\n",
       "      <td>GT Coupé 290PS/Premium-Paket 2/PDC</td>\n",
       "      <td>\\nFord\\n</td>\n",
       "      <td>[\\n, Mustang ,\\n]</td>\n",
       "      <td>Feldbergstraße 1-7,  61231 Bad Nauheim, DE</td>\n",
       "      <td>€ 44,970.-</td>\n",
       "      <td>[\\n, Coupe, \\n]</td>\n",
       "      <td>[\\n, Used, \\n]</td>\n",
       "      <td>[\\n, 3, \\n]</td>\n",
       "      <td>NaN</td>\n",
       "      <td>[\\n, 84696, \\n]</td>\n",
       "      <td>NaN</td>\n",
       "      <td>32,993 km</td>\n",
       "      <td>09/2018</td>\n",
       "      <td>[\\nManual\\n]</td>\n",
       "      <td>Super 95</td>\n",
       "      <td>Black</td>\n",
       "      <td>Metallic</td>\n",
       "      <td>[SONDERAUSSTATTUNG:, schwarz / iridium schwarz...</td>\n",
       "      <td>Dealer</td>\n",
       "      <td>NaN</td>\n",
       "      <td>[\\n213 kW (290 hp)\\n]</td>\n",
       "      <td>[\\n2,261 cc\\n]</td>\n",
       "      <td>NaN</td>\n",
       "      <td>213 g/km (comb.)</td>\n",
       "      <td>Iridium schwarz</td>\n",
       "      <td>NaN</td>\n",
       "      <td>[\\n4\\n]</td>\n",
       "      <td>[[9 l/100 km (comb.)], [12.4 l/100 km (city)],...</td>\n",
       "      <td>[Air conditioning, Automatic climate control, ...</td>\n",
       "      <td>[Radio]</td>\n",
       "      <td>[ABS, Adaptive Cruise Control, Alarm system, C...</td>\n",
       "      <td>[Catalytic Converter]</td>\n",
       "      <td>NaN</td>\n",
       "      <td>09/2024</td>\n",
       "      <td>NaN</td>\n",
       "      <td>NaN</td>\n",
       "      <td>Euro 6</td>\n",
       "      <td>4 (Green)</td>\n",
       "      <td>NaN</td>\n",
       "      <td>NaN</td>\n",
       "      <td>[[32,993 km, 09/2018], 1]</td>\n",
       "    </tr>\n",
       "  </tbody>\n",
       "</table>\n",
       "</div>"
      ],
      "text/plain": [
       "         make_model                   short_description      make  \\\n",
       "22213  Ford Mustang  GT Coupé 290PS/Premium-Paket 2/PDC  \\nFord\\n   \n",
       "\n",
       "                   model                                    location  \\\n",
       "22213  [\\n, Mustang ,\\n]  Feldbergstraße 1-7,  61231 Bad Nauheim, DE   \n",
       "\n",
       "            price        body_type            type        doors  \\\n",
       "22213  € 44,970.-  [\\n, Coupe, \\n]  [\\n, Used, \\n]  [\\n, 3, \\n]   \n",
       "\n",
       "      country_version     offer_number warranty    mileage first_registration  \\\n",
       "22213             NaN  [\\n, 84696, \\n]      NaN  32,993 km            09/2018   \n",
       "\n",
       "            gearbox fuel_type  color     paint  \\\n",
       "22213  [\\nManual\\n]  Super 95  Black  Metallic   \n",
       "\n",
       "                                             description  seller seats  \\\n",
       "22213  [SONDERAUSSTATTUNG:, schwarz / iridium schwarz...  Dealer   NaN   \n",
       "\n",
       "                       power     engine_size gears     co2_emissions  \\\n",
       "22213  [\\n213 kW (290 hp)\\n]  [\\n2,261 cc\\n]   NaN  213 g/km (comb.)   \n",
       "\n",
       "      manufacturer_color drivetrain cylinders  \\\n",
       "22213    Iridium schwarz        NaN   [\\n4\\n]   \n",
       "\n",
       "                                        fuel_consumption  \\\n",
       "22213  [[9 l/100 km (comb.)], [12.4 l/100 km (city)],...   \n",
       "\n",
       "                                     comfort_convenience entertainment_media  \\\n",
       "22213  [Air conditioning, Automatic climate control, ...             [Radio]   \n",
       "\n",
       "                                         safety_security  \\\n",
       "22213  [ABS, Adaptive Cruise Control, Alarm system, C...   \n",
       "\n",
       "                      extras empty_weight general_inspection  \\\n",
       "22213  [Catalytic Converter]          NaN            09/2024   \n",
       "\n",
       "      full_service_history non_smoker_vehicle emission_class  \\\n",
       "22213                  NaN                NaN         Euro 6   \n",
       "\n",
       "      emissions_sticker upholstery_color upholstery             previous_owner  \n",
       "22213         4 (Green)              NaN        NaN  [[32,993 km, 09/2018], 1]  "
      ]
     },
     "execution_count": 232,
     "metadata": {},
     "output_type": "execute_result"
    }
   ],
   "source": [
    "df.sample(1)"
   ]
  },
  {
   "cell_type": "code",
   "execution_count": 233,
   "id": "8e3894f1-584e-45bf-aa0f-ff73c2743ca7",
   "metadata": {},
   "outputs": [],
   "source": [
    "def anatomy_of(df, col):\n",
    "    \"\"\"\n",
    "    Sketches the basics of a feature.\n",
    "    \"\"\"\n",
    "    print('Value Type: ', type(df[col][494]))\n",
    "    print('Number of null values: ', df[col].isnull().sum())\n",
    "    print('Number of unique values: ', df[col].nunique())\n",
    "    print('Top 10 most frequent values: \\n', df[col].value_counts().head(10))"
   ]
  },
  {
   "cell_type": "markdown",
   "id": "60a83d90-98d2-4637-b05b-5421b7cb7759",
   "metadata": {},
   "source": [
    "### make_model"
   ]
  },
  {
   "cell_type": "code",
   "execution_count": 235,
   "id": "15c06a2e-d45d-4208-94e9-a1946d5787d7",
   "metadata": {},
   "outputs": [
    {
     "name": "stdout",
     "output_type": "stream",
     "text": [
      "Value Type:  <class 'str'>\n",
      "Number of null values:  850\n",
      "Number of unique values:  611\n",
      "Top 10 most frequent values: \n",
      " make_model\n",
      "Renault Megane    863\n",
      "SEAT Leon         787\n",
      "Volvo V40         740\n",
      "Dacia Sandero     730\n",
      "Hyundai i30       706\n",
      "Volvo C70         692\n",
      "Opel Astra        675\n",
      "Ford Mustang      663\n",
      "Peugeot 308       537\n",
      "Ford Focus        495\n",
      "Name: count, dtype: int64\n"
     ]
    }
   ],
   "source": [
    "anatomy_of(df, 'make_model')"
   ]
  },
  {
   "cell_type": "markdown",
   "id": "e2008059-2b79-4f82-8308-3c5ab315ab52",
   "metadata": {},
   "source": [
    "### short_description"
   ]
  },
  {
   "cell_type": "code",
   "execution_count": 237,
   "id": "b4b3dba4-b938-41f4-b775-e02ef36423e6",
   "metadata": {},
   "outputs": [
    {
     "name": "stdout",
     "output_type": "stream",
     "text": [
      "Value Type:  <class 'str'>\n",
      "Number of null values:  850\n",
      "Number of unique values:  20947\n",
      "Top 10 most frequent values: \n",
      " short_description\n",
      "                              213\n",
      "D2 Momentum 120                88\n",
      "D2 Kinetic 120                 87\n",
      "Cabrio 1.4T S&S Excellence     85\n",
      "Extreme+ 7-Sitzer TCe 110      57\n",
      "SW 1.6 Multijet II Lounge      41\n",
      "1.2 Lounge                     38\n",
      "D3 Momentum Aut. 150           34\n",
      "D4 R-Design Kinetic 190        34\n",
      "D3 Kinetic 150                 34\n",
      "Name: count, dtype: int64\n"
     ]
    }
   ],
   "source": [
    "anatomy_of(df, 'short_description')"
   ]
  },
  {
   "cell_type": "code",
   "execution_count": 238,
   "id": "9b9a4fad-dc51-48ef-9437-13176555bd32",
   "metadata": {},
   "outputs": [],
   "source": [
    "blank_index = df[df.short_description == ''].index\n",
    "\n",
    "df.loc[blank_index, 'short_description'] = np.nan"
   ]
  },
  {
   "cell_type": "markdown",
   "id": "5fdb1753-b62a-4ca7-8158-434c942045ac",
   "metadata": {},
   "source": [
    "### make"
   ]
  },
  {
   "cell_type": "code",
   "execution_count": 240,
   "id": "21749f64-cf37-4e32-b7c0-91c5710cbac4",
   "metadata": {},
   "outputs": [
    {
     "name": "stdout",
     "output_type": "stream",
     "text": [
      "Value Type:  <class 'str'>\n",
      "Number of null values:  850\n",
      "Number of unique values:  13\n",
      "Top 10 most frequent values: \n",
      " make\n",
      "\\nVolvo\\n            3659\n",
      "\\nMercedes-Benz\\n    2398\n",
      "\\nOpel\\n             2385\n",
      "\\nPeugeot\\n          2360\n",
      "\\nRenault\\n          2351\n",
      "\\nFiat\\n             2338\n",
      "\\nFord\\n             2324\n",
      "\\nNissan\\n           2064\n",
      "\\nToyota\\n           2038\n",
      "\\nHyundai\\n          1867\n",
      "Name: count, dtype: int64\n"
     ]
    }
   ],
   "source": [
    "anatomy_of(df, 'make')"
   ]
  },
  {
   "cell_type": "code",
   "execution_count": 241,
   "id": "52d43546-110a-48ed-bdd4-71f6b8268cb9",
   "metadata": {},
   "outputs": [
    {
     "data": {
      "text/plain": [
       "'\\nMercedes-Benz\\n'"
      ]
     },
     "execution_count": 241,
     "metadata": {},
     "output_type": "execute_result"
    }
   ],
   "source": [
    "df.make[494]"
   ]
  },
  {
   "cell_type": "code",
   "execution_count": 242,
   "id": "002a6af0-186f-44ff-9975-c379751b15c0",
   "metadata": {},
   "outputs": [],
   "source": [
    "df['make'] = df.make.str.strip('\\n')"
   ]
  },
  {
   "cell_type": "code",
   "execution_count": 243,
   "id": "2c536536-1c74-408b-b063-3045bc100a7e",
   "metadata": {},
   "outputs": [
    {
     "data": {
      "text/plain": [
       "make\n",
       "Volvo            3659\n",
       "Mercedes-Benz    2398\n",
       "Opel             2385\n",
       "Peugeot          2360\n",
       "Renault          2351\n",
       "Fiat             2338\n",
       "Ford             2324\n",
       "Nissan           2064\n",
       "Toyota           2038\n",
       "Hyundai          1867\n",
       "SEAT             1743\n",
       "Skoda            1566\n",
       "Dacia            1537\n",
       "Name: count, dtype: int64"
      ]
     },
     "execution_count": 243,
     "metadata": {},
     "output_type": "execute_result"
    }
   ],
   "source": [
    "df.make.value_counts()"
   ]
  },
  {
   "cell_type": "markdown",
   "id": "d5abf8c3-885a-4283-930a-ac19cc7f6915",
   "metadata": {},
   "source": [
    "### model"
   ]
  },
  {
   "cell_type": "code",
   "execution_count": 245,
   "id": "40772351-02ad-4a71-a71e-0dc90a8255ff",
   "metadata": {},
   "outputs": [
    {
     "data": {
      "text/plain": [
       "['\\n, SLK 200 ,\\n']"
      ]
     },
     "execution_count": 245,
     "metadata": {},
     "output_type": "execute_result"
    }
   ],
   "source": [
    "df.model[494]"
   ]
  },
  {
   "cell_type": "code",
   "execution_count": 246,
   "id": "53e8645a-50c7-483f-9f05-229b05d15fab",
   "metadata": {},
   "outputs": [],
   "source": [
    "df['model'] = df.model.map(lambda x: \",\".join(x) if type(x) == list else x)"
   ]
  },
  {
   "cell_type": "code",
   "execution_count": 247,
   "id": "fdc0e256-9690-435e-a5fc-f29ce412f05a",
   "metadata": {},
   "outputs": [
    {
     "name": "stdout",
     "output_type": "stream",
     "text": [
      "Value Type:  <class 'str'>\n",
      "Number of null values:  850\n",
      "Number of unique values:  594\n",
      "Top 10 most frequent values: \n",
      " model\n",
      "\\n, Megane ,\\n     863\n",
      "\\n, Leon ,\\n       787\n",
      "\\n, V40 ,\\n        740\n",
      "\\n, Sandero ,\\n    730\n",
      "\\n, i30 ,\\n        706\n",
      "\\n, C70 ,\\n        692\n",
      "\\n, Astra ,\\n      675\n",
      "\\n, Mustang ,\\n    663\n",
      "\\n, 308 ,\\n        537\n",
      "\\n, Focus ,\\n      495\n",
      "Name: count, dtype: int64\n"
     ]
    }
   ],
   "source": [
    "anatomy_of(df, 'model')"
   ]
  },
  {
   "cell_type": "code",
   "execution_count": 248,
   "id": "d887198a-e3ed-4e30-8449-7ee290c9c712",
   "metadata": {},
   "outputs": [],
   "source": [
    "df['model'] = df.model.str.strip('\\n, ')"
   ]
  },
  {
   "cell_type": "code",
   "execution_count": 249,
   "id": "1614a2b1-2bcd-405c-8e2d-0f10da928798",
   "metadata": {},
   "outputs": [],
   "source": [
    "blank_index = df.model[df.model == ''].index\n",
    "df.loc[blank_index, 'model'] = np.nan"
   ]
  },
  {
   "cell_type": "code",
   "execution_count": 250,
   "id": "5ab8d549-20fd-4cb6-9c9c-4f4e72598da0",
   "metadata": {},
   "outputs": [
    {
     "data": {
      "text/plain": [
       "1126"
      ]
     },
     "execution_count": 250,
     "metadata": {},
     "output_type": "execute_result"
    }
   ],
   "source": [
    "df.model.isnull().sum()"
   ]
  },
  {
   "cell_type": "markdown",
   "id": "ebe6a94d-cb4d-4623-843d-56708f4fc210",
   "metadata": {},
   "source": [
    "### location"
   ]
  },
  {
   "cell_type": "code",
   "execution_count": 252,
   "id": "c1c2dc16-48c8-48f7-8015-9cf0dd104b65",
   "metadata": {},
   "outputs": [
    {
     "name": "stdout",
     "output_type": "stream",
     "text": [
      "Value Type:  <class 'str'>\n",
      "Number of null values:  850\n",
      "Number of unique values:  8181\n",
      "Top 10 most frequent values: \n",
      " location\n",
      "Av. Laboral, 10,  28021 MADRID, ES                          306\n",
      "Luckenwalder Berg 5,  14913 Jüterbog, DE                    170\n",
      "Ctra. del Mig, 96,,  08097 L'Hospitalet de Llobregat, ES    146\n",
      "9 boulevard Jules Ferry,  75011 Paris, FR                   142\n",
      "Neuenhofstr. 77,  52078 Aachen, DE                          135\n",
      "Bestel gemakkelijk Online 24/7,  1000 Brussel, BE           131\n",
      "CARRETERA DE MATARO 10,  8903 SANT ADRIÀ DE BESÒS, ES       110\n",
      "CARRETERA FUENCARRAL A HORTALEZA 89 D,  28050 MADRID, ES     98\n",
      "Donnerwenge 2,  57439 Attendorn, DE                          97\n",
      "calle la chaparrilla, 7,  41500 alcalá de guadaira, ES       95\n",
      "Name: count, dtype: int64\n"
     ]
    }
   ],
   "source": [
    "anatomy_of(df, 'location')"
   ]
  },
  {
   "cell_type": "code",
   "execution_count": 253,
   "id": "e32868f7-8805-46e7-a49a-05325950e4a3",
   "metadata": {},
   "outputs": [
    {
     "data": {
      "text/plain": [
       "'Hofer Str. 45,  95632 Wunsiedel, DE'"
      ]
     },
     "execution_count": 253,
     "metadata": {},
     "output_type": "execute_result"
    }
   ],
   "source": [
    "df.location[494]"
   ]
  },
  {
   "cell_type": "markdown",
   "id": "d0867129-d0a1-42d2-a915-4ae1c6b89a03",
   "metadata": {},
   "source": [
    "### price"
   ]
  },
  {
   "cell_type": "code",
   "execution_count": 255,
   "id": "ac29fd2d-24af-4e7a-b50b-65af9257c27d",
   "metadata": {},
   "outputs": [
    {
     "name": "stdout",
     "output_type": "stream",
     "text": [
      "Value Type:  <class 'str'>\n",
      "Number of null values:  850\n",
      "Number of unique values:  5021\n",
      "Top 10 most frequent values: \n",
      " price\n",
      "€ 14,990.-    222\n",
      "€ 12,990.-    219\n",
      "€ 16,990.-    186\n",
      "€ 19,990.-    166\n",
      "€ 9,990.-     160\n",
      "€ 19,900.-    157\n",
      "€ 18,990.-    156\n",
      "€ 11,990.-    154\n",
      "€ 14,900.-    141\n",
      "€ 13,990.-    141\n",
      "Name: count, dtype: int64\n"
     ]
    }
   ],
   "source": [
    "anatomy_of(df, 'price')"
   ]
  },
  {
   "cell_type": "code",
   "execution_count": 256,
   "id": "60542921-3bec-4daf-af2d-390e612cf03d",
   "metadata": {},
   "outputs": [],
   "source": [
    "df['price'] = df.price.str.strip('€ .-').str.replace(',', '').astype('float')"
   ]
  },
  {
   "cell_type": "markdown",
   "id": "3fe486ce-7eff-4832-80cf-1945fd212522",
   "metadata": {},
   "source": [
    "### body_type"
   ]
  },
  {
   "cell_type": "code",
   "execution_count": 258,
   "id": "a3c96d38-3330-43e3-a3bc-b1ffbd34f2b3",
   "metadata": {},
   "outputs": [],
   "source": [
    "df['body_type'] = df.body_type.map(lambda x: \",\".join(x) if type(x) == list else x)"
   ]
  },
  {
   "cell_type": "code",
   "execution_count": 259,
   "id": "ce41f644-b277-4e23-8ff6-ff56615e1b52",
   "metadata": {},
   "outputs": [
    {
     "name": "stdout",
     "output_type": "stream",
     "text": [
      "Value Type:  <class 'str'>\n",
      "Number of null values:  850\n",
      "Number of unique values:  6\n",
      "Top 10 most frequent values: \n",
      " body_type\n",
      "\\n, Station wagon, \\n       5448\n",
      "\\n, Off-Road/Pick-up, \\n    5415\n",
      "\\n, Compact, \\n             5387\n",
      "\\n, Sedan, \\n               5043\n",
      "\\n, Coupe, \\n               4009\n",
      "\\n, Convertible, \\n         3328\n",
      "Name: count, dtype: int64\n"
     ]
    }
   ],
   "source": [
    "anatomy_of(df, 'body_type')"
   ]
  },
  {
   "cell_type": "code",
   "execution_count": 260,
   "id": "89a39f6c-57b8-4837-81aa-a676d293dba2",
   "metadata": {},
   "outputs": [],
   "source": [
    "df['body_type'] = df.body_type.str.strip(', \\n')"
   ]
  },
  {
   "cell_type": "markdown",
   "id": "303c5b41-d16c-4120-a354-b4c252e79713",
   "metadata": {},
   "source": [
    "### type"
   ]
  },
  {
   "cell_type": "code",
   "execution_count": 262,
   "id": "86fb4d0a-c290-445a-b156-96e84adcefbb",
   "metadata": {},
   "outputs": [],
   "source": [
    "df['type'] = df.type.map(lambda x: \",\".join(x) if type(x) == list else x)"
   ]
  },
  {
   "cell_type": "code",
   "execution_count": 263,
   "id": "c057193a-965e-4e16-a7b2-f9aaa33a1dcf",
   "metadata": {},
   "outputs": [
    {
     "name": "stdout",
     "output_type": "stream",
     "text": [
      "Value Type:  <class 'str'>\n",
      "Number of null values:  850\n",
      "Number of unique values:  4\n",
      "Top 10 most frequent values: \n",
      " type\n",
      "\\n, Used, \\n              25251\n",
      "\\n, Demonstration, \\n      1433\n",
      "\\n, Pre-registered, \\n     1377\n",
      "\\n, Employee's car, \\n      569\n",
      "Name: count, dtype: int64\n"
     ]
    }
   ],
   "source": [
    "anatomy_of(df, 'type')"
   ]
  },
  {
   "cell_type": "code",
   "execution_count": 264,
   "id": "65a1ac62-38b3-493b-b78d-8432bc37e690",
   "metadata": {},
   "outputs": [],
   "source": [
    "df['type'] = df.type.str.strip(', \\n')"
   ]
  },
  {
   "cell_type": "markdown",
   "id": "c28c152b-bbce-4aac-8d2c-dfad4c9f4956",
   "metadata": {},
   "source": [
    "### doors"
   ]
  },
  {
   "cell_type": "code",
   "execution_count": 266,
   "id": "ac5fdfc0-abf8-4043-907e-98f824447ada",
   "metadata": {},
   "outputs": [],
   "source": [
    "df['doors'] = df.doors.map(lambda x: \",\".join(x) if type(x) == list else x)"
   ]
  },
  {
   "cell_type": "code",
   "execution_count": 267,
   "id": "45a3ded3-715f-4e97-beca-5649a9cddb8f",
   "metadata": {},
   "outputs": [
    {
     "name": "stdout",
     "output_type": "stream",
     "text": [
      "Value Type:  <class 'str'>\n",
      "Number of null values:  1209\n",
      "Number of unique values:  6\n",
      "Top 10 most frequent values: \n",
      " doors\n",
      "\\n, 5, \\n    17481\n",
      "\\n, 2, \\n     5523\n",
      "\\n, 4, \\n     3001\n",
      "\\n, 3, \\n     2259\n",
      "\\n, 6, \\n        5\n",
      "\\n, 1, \\n        2\n",
      "Name: count, dtype: int64\n"
     ]
    }
   ],
   "source": [
    "anatomy_of(df, 'doors')"
   ]
  },
  {
   "cell_type": "code",
   "execution_count": 268,
   "id": "43e8f53a-3206-468e-bd28-a38464f09a69",
   "metadata": {},
   "outputs": [],
   "source": [
    "df['doors'] = df.doors.str.strip(', \\n').astype('float')"
   ]
  },
  {
   "cell_type": "markdown",
   "id": "8c70ffe7-199c-4658-aeaf-3342203c0d02",
   "metadata": {},
   "source": [
    "### country_version"
   ]
  },
  {
   "cell_type": "code",
   "execution_count": 270,
   "id": "aac7407f-767a-46b1-b864-dcb76d3c33c1",
   "metadata": {},
   "outputs": [],
   "source": [
    "df['country_version'] = df.country_version.map(lambda x: \",\".join(x) if type(x) == list else x)"
   ]
  },
  {
   "cell_type": "code",
   "execution_count": 308,
   "id": "188d26f1-3fb6-4061-9132-d8111d2f2e5c",
   "metadata": {},
   "outputs": [
    {
     "name": "stdout",
     "output_type": "stream",
     "text": [
      "Value Type:  <class 'str'>\n",
      "Number of null values:  12591\n",
      "Number of unique values:  25\n",
      "Top 10 most frequent values: \n",
      " country_version\n",
      "\\n, Germany, \\n           7939\n",
      "\\n, Spain, \\n             6376\n",
      "\\n, Italy, \\n              679\n",
      "\\n, Belgium, \\n            641\n",
      "\\n, European Union, \\n     340\n",
      "\\n, Netherlands, \\n        306\n",
      "\\n, Austria, \\n            266\n",
      "\\n, France, \\n             101\n",
      "\\n, United States, \\n       57\n",
      "\\n, Czechia, \\n             47\n",
      "Name: count, dtype: int64\n"
     ]
    }
   ],
   "source": [
    "anatomy_of(df, 'country_version')"
   ]
  },
  {
   "cell_type": "code",
   "execution_count": 312,
   "id": "a75e377c-86ee-48be-a428-2f7950f46dae",
   "metadata": {},
   "outputs": [],
   "source": [
    "df['country_version'] = df.country_version.str.strip(', \\n')"
   ]
  },
  {
   "cell_type": "markdown",
   "id": "6c5b7fa5-fe36-4ec8-a1aa-ff855b1d6a9b",
   "metadata": {},
   "source": [
    "### offer_number"
   ]
  },
  {
   "cell_type": "code",
   "execution_count": 319,
   "id": "920257eb-9699-4b06-820f-aaf961cdc84a",
   "metadata": {},
   "outputs": [],
   "source": [
    "df['offer_number'] = df.offer_number.map(lambda x: \",\".join(x) if type(x) == list else x)"
   ]
  },
  {
   "cell_type": "code",
   "execution_count": 321,
   "id": "29db78df-5d99-4aa4-936b-a1e477c8a491",
   "metadata": {},
   "outputs": [
    {
     "name": "stdout",
     "output_type": "stream",
     "text": [
      "Value Type:  <class 'str'>\n",
      "Number of null values:  6380\n",
      "Number of unique values:  20945\n",
      "Top 10 most frequent values: \n",
      " offer_number\n",
      "\\n, 1, \\n                 28\n",
      "\\n, L-Vorlauf 2023, \\n    10\n",
      "\\n, 20, \\n                 9\n",
      "\\n, 30, \\n                 9\n",
      "\\n, RE82542, \\n            8\n",
      "\\n, 12, \\n                 8\n",
      "\\n, SE63327, \\n            7\n",
      "\\n, PC57566, \\n            7\n",
      "\\n, 10, \\n                 7\n",
      "\\n, UC99209, \\n            7\n",
      "Name: count, dtype: int64\n"
     ]
    }
   ],
   "source": [
    "anatomy_of(df, 'offer_number')"
   ]
  },
  {
   "cell_type": "code",
   "execution_count": 325,
   "id": "5dd68641-5a64-43fc-9291-263415c3e609",
   "metadata": {},
   "outputs": [],
   "source": [
    "df['offer_number'] = df.offer_number.str.strip(', \\n')"
   ]
  },
  {
   "cell_type": "markdown",
   "id": "4d30d4a4-362a-47d2-bed2-f7ba8a9b9e7b",
   "metadata": {},
   "source": [
    "### warranty"
   ]
  },
  {
   "cell_type": "code",
   "execution_count": 334,
   "id": "ccfd7e09-15ec-494c-bf24-a413967c02fa",
   "metadata": {},
   "outputs": [],
   "source": [
    "df['warranty'] = df.warranty.map(lambda x: \",\".join(x) if type(x) == list else x)"
   ]
  },
  {
   "cell_type": "code",
   "execution_count": 336,
   "id": "b6fcf8a2-3554-4ce7-b143-0791e3057ba2",
   "metadata": {},
   "outputs": [
    {
     "name": "stdout",
     "output_type": "stream",
     "text": [
      "Value Type:  <class 'str'>\n",
      "Number of null values:  13696\n",
      "Number of unique values:  65\n",
      "Top 10 most frequent values: \n",
      " warranty\n",
      "\\n, 12 months, \\n    9545\n",
      "\\n, Yes, \\n          2319\n",
      "\\n, 24 months, \\n    1515\n",
      "\\n, 60 months, \\n     968\n",
      "\\n, 6 months, \\n      398\n",
      "\\n, 36 months, \\n     257\n",
      "\\n, 3 months, \\n      185\n",
      "\\n, 0 months, \\n      133\n",
      "\\n, 48 months, \\n      78\n",
      "\\n, 84 months, \\n      47\n",
      "Name: count, dtype: int64\n"
     ]
    }
   ],
   "source": [
    "anatomy_of(df, 'warranty')"
   ]
  },
  {
   "cell_type": "code",
   "execution_count": 340,
   "id": "d12482cf-a563-435a-b598-17ea0edaffe4",
   "metadata": {},
   "outputs": [],
   "source": [
    "df['warranty'] = df.warranty.str.strip('\\n, ')"
   ]
  },
  {
   "cell_type": "markdown",
   "id": "4304d5e2-e98e-4e96-81be-21c463f0e3aa",
   "metadata": {},
   "source": [
    "### mileage"
   ]
  },
  {
   "cell_type": "code",
   "execution_count": 347,
   "id": "c50fa8ac-dfbc-4a1d-b2a6-c9f6912d39dd",
   "metadata": {},
   "outputs": [
    {
     "name": "stdout",
     "output_type": "stream",
     "text": [
      "Value Type:  <class 'str'>\n",
      "Number of null values:  851\n",
      "Number of unique values:  14183\n",
      "Top 10 most frequent values: \n",
      " mileage\n",
      "10 km         586\n",
      "1 km          172\n",
      "50 km         133\n",
      "100 km        119\n",
      "5,000 km      118\n",
      "5 km          114\n",
      "20 km         101\n",
      "15 km          91\n",
      "100,000 km     79\n",
      "3,000 km       77\n",
      "Name: count, dtype: int64\n"
     ]
    }
   ],
   "source": [
    "anatomy_of(df, 'mileage')"
   ]
  },
  {
   "cell_type": "code",
   "execution_count": 355,
   "id": "39454822-5d9e-4e60-9e27-f944587fb683",
   "metadata": {},
   "outputs": [],
   "source": [
    "df['mileage'] = df.mileage.str.split(\" \").map(lambda x: x[0] if type(x) == list else x)\\\n",
    "                .str.replace(',', '').astype('float')"
   ]
  },
  {
   "cell_type": "markdown",
   "id": "66fb19f2-547b-403f-b782-c6008d9c53df",
   "metadata": {},
   "source": [
    "### first_registration"
   ]
  },
  {
   "cell_type": "code",
   "execution_count": 360,
   "id": "acbbbc67-b77a-4aa7-a3e1-afabe589004c",
   "metadata": {},
   "outputs": [
    {
     "name": "stdout",
     "output_type": "stream",
     "text": [
      "Value Type:  <class 'str'>\n",
      "Number of null values:  852\n",
      "Number of unique values:  655\n",
      "Top 10 most frequent values: \n",
      " first_registration\n",
      "08/2022    454\n",
      "06/2022    428\n",
      "05/2019    420\n",
      "06/2019    418\n",
      "07/2019    416\n",
      "07/2022    412\n",
      "06/2018    396\n",
      "01/2019    390\n",
      "05/2022    375\n",
      "03/2019    372\n",
      "Name: count, dtype: int64\n"
     ]
    }
   ],
   "source": [
    "anatomy_of(df, 'first_registration')"
   ]
  },
  {
   "cell_type": "code",
   "execution_count": 381,
   "id": "97de006f-8f82-4443-bda9-ad036c721113",
   "metadata": {},
   "outputs": [],
   "source": [
    "df['first_registration'] = pd.to_datetime(df['first_registration'], format='%m/%Y').dt.to_period('M')"
   ]
  },
  {
   "cell_type": "markdown",
   "id": "afa0e928-d96a-4cd9-9264-03c1da8884d5",
   "metadata": {},
   "source": [
    "### gearbox"
   ]
  },
  {
   "cell_type": "code",
   "execution_count": 371,
   "id": "9ef1b729-8429-46e6-be9d-1151e665f890",
   "metadata": {},
   "outputs": [],
   "source": [
    "df['gearbox'] = df.gearbox.map(lambda x: \",\".join(x) if type(x) == list else x)"
   ]
  },
  {
   "cell_type": "code",
   "execution_count": 373,
   "id": "553cab4f-3220-4b52-ab2c-a44ef9814bd5",
   "metadata": {},
   "outputs": [
    {
     "name": "stdout",
     "output_type": "stream",
     "text": [
      "Value Type:  <class 'str'>\n",
      "Number of null values:  1098\n",
      "Number of unique values:  3\n",
      "Top 10 most frequent values: \n",
      " gearbox\n",
      "\\nManual\\n            17023\n",
      "\\nAutomatic\\n         11287\n",
      "\\nSemi-automatic\\n       72\n",
      "Name: count, dtype: int64\n"
     ]
    }
   ],
   "source": [
    "anatomy_of(df, 'gearbox')"
   ]
  },
  {
   "cell_type": "code",
   "execution_count": 377,
   "id": "94778981-babb-402f-bfe9-21b17d5590e1",
   "metadata": {},
   "outputs": [],
   "source": [
    "df['gearbox'] = df.gearbox.str.strip('\\n ')"
   ]
  },
  {
   "cell_type": "markdown",
   "id": "0b2a72b4-d987-4a2d-abb0-7878a975af8c",
   "metadata": {},
   "source": [
    "### fuel_type"
   ]
  },
  {
   "cell_type": "code",
   "execution_count": 384,
   "id": "b14be7ee-2c25-4209-9e6f-a8bd4331c262",
   "metadata": {},
   "outputs": [
    {
     "name": "stdout",
     "output_type": "stream",
     "text": [
      "Value Type:  <class 'str'>\n",
      "Number of null values:  2637\n",
      "Number of unique values:  46\n",
      "Top 10 most frequent values: \n",
      " fuel_type\n",
      "Gasoline                                8532\n",
      "Diesel                                  5911\n",
      "Super 95                                3557\n",
      "Diesel (Particle filter)                2816\n",
      "Regular/Benzine 91                      2065\n",
      "Super E10 95                            1016\n",
      "Regular/Benzine 91 (Particle filter)     555\n",
      "Super 95 (Particle filter)               537\n",
      "Super E10 95 (Particle filter)           324\n",
      "Regular/Benzine E10 91                   278\n",
      "Name: count, dtype: int64\n"
     ]
    }
   ],
   "source": [
    "anatomy_of(df, 'fuel_type')"
   ]
  },
  {
   "cell_type": "markdown",
   "id": "4d1641c4-9c99-4e54-9e5f-997df98ab7bc",
   "metadata": {},
   "source": [
    "### color"
   ]
  },
  {
   "cell_type": "code",
   "execution_count": 387,
   "id": "4535778e-1035-4217-b9b7-e0d1a09ba459",
   "metadata": {},
   "outputs": [
    {
     "name": "stdout",
     "output_type": "stream",
     "text": [
      "Value Type:  <class 'str'>\n",
      "Number of null values:  2574\n",
      "Number of unique values:  14\n",
      "Top 10 most frequent values: \n",
      " color\n",
      "Black     6473\n",
      "Grey      5998\n",
      "White     5185\n",
      "Blue      3478\n",
      "Red       2242\n",
      "Silver    1622\n",
      "Green      450\n",
      "Brown      437\n",
      "Orange     288\n",
      "Beige      278\n",
      "Name: count, dtype: int64\n"
     ]
    }
   ],
   "source": [
    "anatomy_of(df, 'color')"
   ]
  },
  {
   "cell_type": "markdown",
   "id": "3693be85-1ffa-4763-b07e-75c1edf3161e",
   "metadata": {},
   "source": [
    "### paint"
   ]
  },
  {
   "cell_type": "code",
   "execution_count": 390,
   "id": "3e92afaa-cf8f-4e4e-82e9-12e8b6c1b600",
   "metadata": {},
   "outputs": [
    {
     "name": "stdout",
     "output_type": "stream",
     "text": [
      "Value Type:  <class 'str'>\n",
      "Number of null values:  14985\n",
      "Number of unique values:  2\n",
      "Top 10 most frequent values: \n",
      " paint\n",
      "Metallic     14494\n",
      "Uni/basic        1\n",
      "Name: count, dtype: int64\n"
     ]
    }
   ],
   "source": [
    "anatomy_of(df, 'paint')"
   ]
  },
  {
   "cell_type": "markdown",
   "id": "e419c507-8c4b-4449-be45-e652412e2e84",
   "metadata": {},
   "source": [
    "### description"
   ]
  },
  {
   "cell_type": "code",
   "execution_count": 395,
   "id": "9fcb423b-ee77-4372-a332-e8cdb4fbcd1a",
   "metadata": {},
   "outputs": [],
   "source": [
    "df['description'] = df.description.map(lambda x: \",\".join(x) if type(x) == list else x)"
   ]
  },
  {
   "cell_type": "code",
   "execution_count": 400,
   "id": "059f06a5-2614-4260-aaef-55c6553769e5",
   "metadata": {},
   "outputs": [
    {
     "data": {
      "text/plain": [
       "' * AIRSCARF Kopfraumheizung für Fahrer und Beifahrer, * Navigation: Becker MAP PILOT Vollintegr. (herausnehmbar m. USB-Anschl.) Navigationsmodul m. 2D/3D-Kartendarst. der digitalis. Geb. Europas Unterbringung in Aufnahmeschale im Handschuhfach Anz. der Navigation im Displ. des Audio 20 CD Bedienung ü. zentr. Controller akust. Ausgabe der Fahrempfehlungen über die Fahrzeuglautspr. visuelle Anzeige der Fahrempfehlungen im Kombiinstrument autom. Stauberücksichtigung (TMC Pro) Adresseing. ü. Sprache Updates von Kartendaten, Fkt.-Softw. u. weiteren Features ü. PC und Internet, * Räder: 43,2 cm (17\"\") Leichtmetallräder 4fach im 10-Speichen-Design VA: 7,5 J x 17 ET 42, Reifengröße 225/45 R 17 HA: 8,5 J x 17 ET 36, Reifengröße 245/40 R 17, * ABS, * ADAPTIV BRAKE mit HOLD-Funktion, * ATTENTION ASSIST, * Abgasanlage zweiflutig mit Endrohrblende, * Ablagen SLK-Klasse, * Adaptives Bremslicht blinkend, * Airbag für Fahrer und Beifahrer, * Airbag: Headbags in den Türen, * Airbag: Sidebags in den Sitzen, * Aktive Motorhaube, * Antischlupfregelung, * Automatische Kindersitzerkennung AKSE, * Außenspiegel elek. verst. u. beh., * Außentemperaturanzeige, * Blinker mit Komfort-Tipp-Schaltung, * Brems-Assistent-System (BAS), * Dachhimmel inkl. Heckscheibenrahm. schw., * Lenkung: Direktlenkung mit variabler Lenkkraftunterstützung und variabler Lenkübersetzung, * Drehzahlmesser, * ECO Start-Stopp-Funktion, * Elektronisches Stabilitäts-Programm, * Fahrlicht-Assistent mit autom. Fahrlicht, * Fahrwerk: Sportfahrwerk mit Tieferlegung - 10 mm, * Fensterheber elektrisch, * Feststellbremse elektrisch, * Fußgängerschutz (aktive Motorhaube), * Getriebe: Automatik 7-Gang, 7G-TRONIC, * Heckleuchten in LED-Funktion, * Heizbare Heckscheibe mit Zeitsteuerung, * Klima: Klimaanlage, * Klimaautomatik, * Kofferraumbeleuchtung, * Kofferraumdeckel-Fernentriegelung, * Kombiinstrument mit zentrealem Multifunk, * Kopfstützen: NECK-PRO Kopfstützen, vorn, * LED-Tagfahrleuchten, stabförmig, im Stoßfänger integriert, * Lackierung: Metallic gemäß Musterkarte, * Lenk.: Multifunktions-Sportl. in Leder, * Lenksäule längs- und höhenverstellbar, * Leseleuchten blendfrei f. Fahrer u. Beif, , , Die Angaben in Anzeigen, Internet, Preisschildern, und Bildern sind unverbindliche Beschreibungen, und dienen nicht als zugesicherte Eigenschaften., Der Verkäufer übernimmt keine Haftung/Gewährleistung, für Tipp- und Datenübertragungsfehler. Aufgeführte, Ausstattungen sind gegebenfalls gesondert zu prüfen!, Irrtümer und Zwischenverkauf vorbehalten!, Onlinekontakt: 09281/83919660,, Mail: verkauf@autohaus-engel.de, Deutschlandweite Anlieferung für 399,-\\x80 möglich!, Bitte aktuellen Standort erfragen: Bayreuth, Hof, Wunsiedel, , , , Geprüfter Gebrauchtwagen:, , - Meistergeprüft, - 1 Jahr Garantie, - Rückkaufversprechen, - Inzahlungnahme Ihres Gebrauchten, - Individuelle Finanzierung auch ohne Anzahlung, - Probefahrt kurzfristig möglich,See more'"
      ]
     },
     "execution_count": 400,
     "metadata": {},
     "output_type": "execute_result"
    }
   ],
   "source": [
    "df.description[494]"
   ]
  },
  {
   "cell_type": "markdown",
   "id": "00298128-009d-4c6d-b3fc-7fa5e5cc7615",
   "metadata": {},
   "source": [
    "### seller"
   ]
  },
  {
   "cell_type": "code",
   "execution_count": 403,
   "id": "b2c678af-2c92-47b9-927a-c14cc2661bea",
   "metadata": {},
   "outputs": [
    {
     "name": "stdout",
     "output_type": "stream",
     "text": [
      "Value Type:  <class 'str'>\n",
      "Number of null values:  850\n",
      "Number of unique values:  2\n",
      "Top 10 most frequent values: \n",
      " seller\n",
      "Dealer            26318\n",
      "Private seller     2312\n",
      "Name: count, dtype: int64\n"
     ]
    }
   ],
   "source": [
    "anatomy_of(df, 'seller')"
   ]
  },
  {
   "cell_type": "code",
   "execution_count": 409,
   "id": "d686728c-e7ee-4ba9-bf34-2ccd9014011b",
   "metadata": {},
   "outputs": [],
   "source": [
    "df['seller'] = df.seller.str.title()"
   ]
  },
  {
   "cell_type": "markdown",
   "id": "0f67c035-dd22-4266-9368-8bd9dda29a39",
   "metadata": {},
   "source": [
    "### seats"
   ]
  },
  {
   "cell_type": "code",
   "execution_count": 418,
   "id": "265fae79-d90a-4430-8088-131c6878f998",
   "metadata": {},
   "outputs": [],
   "source": [
    "df['seats'] = df.seats.map(lambda x: \",\".join(x) if type(x) == list else x)"
   ]
  },
  {
   "cell_type": "code",
   "execution_count": 422,
   "id": "6270a8af-8673-4841-b77f-c532326f7f66",
   "metadata": {},
   "outputs": [
    {
     "name": "stdout",
     "output_type": "stream",
     "text": [
      "Value Type:  <class 'str'>\n",
      "Number of null values:  3975\n",
      "Number of unique values:  11\n",
      "Top 10 most frequent values: \n",
      " seats\n",
      "\\n, 5, \\n    18308\n",
      "\\n, 4, \\n     5390\n",
      "\\n, 2, \\n     1186\n",
      "\\n, 7, \\n      488\n",
      "\\n, 8, \\n       43\n",
      "\\n, 9, \\n       35\n",
      "\\n, 3, \\n       25\n",
      "\\n, 6, \\n       12\n",
      "\\n, 0, \\n        9\n",
      "\\n, 1, \\n        7\n",
      "Name: count, dtype: int64\n"
     ]
    }
   ],
   "source": [
    "anatomy_of(df, 'seats')"
   ]
  },
  {
   "cell_type": "code",
   "execution_count": 428,
   "id": "81e4056b-c7cc-4576-9f1c-aa83480cf08b",
   "metadata": {},
   "outputs": [],
   "source": [
    "df['seats'] = df.seats.str.strip(', \\n').astype('float')"
   ]
  },
  {
   "cell_type": "markdown",
   "id": "b0d3688b-1e77-4037-99a2-71bcb2649709",
   "metadata": {},
   "source": [
    "### power"
   ]
  },
  {
   "cell_type": "code",
   "execution_count": 433,
   "id": "702f9bad-976d-4dd7-a992-1bf09af8056b",
   "metadata": {},
   "outputs": [],
   "source": [
    "df['power'] = df.power.map(lambda x: \",\".join(x) if type(x) == list else x)"
   ]
  },
  {
   "cell_type": "code",
   "execution_count": 435,
   "id": "289227d8-5263-476f-b023-aca2f1780451",
   "metadata": {},
   "outputs": [
    {
     "name": "stdout",
     "output_type": "stream",
     "text": [
      "Value Type:  <class 'str'>\n",
      "Number of null values:  1422\n",
      "Number of unique values:  351\n",
      "Top 10 most frequent values: \n",
      " power\n",
      "\\n110 kW (150 hp)\\n    1992\n",
      "\\n96 kW (131 hp)\\n     1356\n",
      "\\n88 kW (120 hp)\\n     1182\n",
      "\\n81 kW (110 hp)\\n     1166\n",
      "\\n66 kW (90 hp)\\n      1110\n",
      "\\n103 kW (140 hp)\\n    1033\n",
      "\\n85 kW (116 hp)\\n     1002\n",
      "\\n74 kW (101 hp)\\n      892\n",
      "\\n140 kW (190 hp)\\n     787\n",
      "\\n51 kW (69 hp)\\n       701\n",
      "Name: count, dtype: int64\n"
     ]
    }
   ],
   "source": [
    "anatomy_of(df, 'power')"
   ]
  },
  {
   "cell_type": "code",
   "execution_count": 441,
   "id": "d03298fc-1604-4c88-b6f3-9f2090039664",
   "metadata": {},
   "outputs": [],
   "source": [
    "df['power'] = df.power.str.strip('\\n')"
   ]
  },
  {
   "cell_type": "markdown",
   "id": "77642a19-f32e-48b4-9154-1093d3571f02",
   "metadata": {},
   "source": [
    "### engine_size"
   ]
  },
  {
   "cell_type": "code",
   "execution_count": 448,
   "id": "ceff4732-15b7-43ac-bdec-7388bd672105",
   "metadata": {},
   "outputs": [],
   "source": [
    "df['engine_size'] = df.engine_size.map(lambda x: \",\".join(x) if type(x) == list else x)"
   ]
  },
  {
   "cell_type": "code",
   "execution_count": 450,
   "id": "b64d2e7c-ce78-4a92-9c01-88bef7a67433",
   "metadata": {},
   "outputs": [
    {
     "name": "stdout",
     "output_type": "stream",
     "text": [
      "Value Type:  <class 'str'>\n",
      "Number of null values:  2253\n",
      "Number of unique values:  467\n",
      "Top 10 most frequent values: \n",
      " engine_size\n",
      "\\n1,598 cc\\n    2099\n",
      "\\n999 cc\\n      2068\n",
      "\\n1,969 cc\\n    1929\n",
      "\\n1,461 cc\\n    1110\n",
      "\\n1,998 cc\\n    1000\n",
      "\\n998 cc\\n       925\n",
      "\\n1,199 cc\\n     867\n",
      "\\n1,498 cc\\n     782\n",
      "\\n1,997 cc\\n     665\n",
      "\\n1,968 cc\\n     625\n",
      "Name: count, dtype: int64\n"
     ]
    }
   ],
   "source": [
    "anatomy_of(df, 'engine_size')"
   ]
  },
  {
   "cell_type": "code",
   "execution_count": 458,
   "id": "aa0fde84-49c5-4440-8f0a-aceaed56e48b",
   "metadata": {},
   "outputs": [],
   "source": [
    "df['engine_size'] = df.engine_size.str.strip(' cc\\n').str.replace(',', '').astype('float')"
   ]
  },
  {
   "cell_type": "markdown",
   "id": "a564af81-fa89-4624-983d-b12a745b09e6",
   "metadata": {},
   "source": [
    "### gears"
   ]
  },
  {
   "cell_type": "code",
   "execution_count": 463,
   "id": "da775731-f068-4843-8cf2-8f588a402c8d",
   "metadata": {},
   "outputs": [],
   "source": [
    "df['gears'] = df.gears.map(lambda x: \",\".join(x) if type(x) == list else x)"
   ]
  },
  {
   "cell_type": "code",
   "execution_count": 465,
   "id": "a4e39ae5-3d6e-4d69-a958-0d38c043c0a8",
   "metadata": {},
   "outputs": [
    {
     "name": "stdout",
     "output_type": "stream",
     "text": [
      "Value Type:  <class 'str'>\n",
      "Number of null values:  10526\n",
      "Number of unique values:  11\n",
      "Top 10 most frequent values: \n",
      " gears\n",
      "\\n6\\n     8412\n",
      "\\n5\\n     5335\n",
      "\\n7\\n     1738\n",
      "\\n8\\n     1690\n",
      "\\n1\\n      712\n",
      "\\n9\\n      642\n",
      "\\n4\\n      256\n",
      "\\n10\\n     112\n",
      "\\n0\\n       31\n",
      "\\n3\\n       24\n",
      "Name: count, dtype: int64\n"
     ]
    }
   ],
   "source": [
    "anatomy_of(df, 'gears')"
   ]
  },
  {
   "cell_type": "code",
   "execution_count": 471,
   "id": "2c9678c5-68dd-47f9-bf03-f179c7732a23",
   "metadata": {},
   "outputs": [],
   "source": [
    "df['gears'] = df.gears.str.strip('\\n').astype('float')"
   ]
  },
  {
   "cell_type": "markdown",
   "id": "8691b29e-2f68-4d2c-b72e-a642575ed306",
   "metadata": {},
   "source": [
    "### co2_emissions"
   ]
  },
  {
   "cell_type": "code",
   "execution_count": 474,
   "id": "9ea7d8f7-85d2-47af-a495-d9b103cddac3",
   "metadata": {},
   "outputs": [
    {
     "name": "stdout",
     "output_type": "stream",
     "text": [
      "Value Type:  <class 'str'>\n",
      "Number of null values:  10886\n",
      "Number of unique values:  347\n",
      "Top 10 most frequent values: \n",
      " co2_emissions\n",
      "0 g/km (comb.)      1038\n",
      "119 g/km (comb.)     393\n",
      "124 g/km (comb.)     340\n",
      "129 g/km (comb.)     319\n",
      "114 g/km (comb.)     313\n",
      "99 g/km (comb.)      312\n",
      "115 g/km (comb.)     304\n",
      "139 g/km (comb.)     298\n",
      "109 g/km (comb.)     265\n",
      "108 g/km (comb.)     262\n",
      "Name: count, dtype: int64\n"
     ]
    }
   ],
   "source": [
    "anatomy_of(df, 'co2_emissions')"
   ]
  },
  {
   "cell_type": "markdown",
   "id": "4518fc89-0ebd-4f91-88d4-182cfd22861e",
   "metadata": {},
   "source": [
    "### manufacturer_color"
   ]
  },
  {
   "cell_type": "code",
   "execution_count": 477,
   "id": "acaa6566-9166-4003-934e-41ff1012c82e",
   "metadata": {},
   "outputs": [
    {
     "name": "stdout",
     "output_type": "stream",
     "text": [
      "Value Type:  <class 'str'>\n",
      "Number of null values:  7693\n",
      "Number of unique values:  4963\n",
      "Top 10 most frequent values: \n",
      " manufacturer_color\n",
      "Blanco            1235\n",
      "Gris               671\n",
      "Azul               552\n",
      "Negro              546\n",
      "Rojo               381\n",
      "Grijs metallic     375\n",
      "Zwart metallic     295\n",
      "Zwart              232\n",
      "Schwarz            228\n",
      "Wit                223\n",
      "Name: count, dtype: int64\n"
     ]
    }
   ],
   "source": [
    "anatomy_of(df, 'manufacturer_color')"
   ]
  },
  {
   "cell_type": "markdown",
   "id": "ccd2e5bd-005f-403a-b21a-968ad010b4f2",
   "metadata": {},
   "source": [
    "### drivetrain"
   ]
  },
  {
   "cell_type": "code",
   "execution_count": 486,
   "id": "605281d7-26fd-4f43-b31d-15c63c859e7e",
   "metadata": {},
   "outputs": [],
   "source": [
    "df['drivetrain'] = df.drivetrain.map(lambda x: \",\".join(x) if type(x) == list else x)"
   ]
  },
  {
   "cell_type": "code",
   "execution_count": 488,
   "id": "bf08cb4b-3132-4538-9de0-6eb3883e77b2",
   "metadata": {},
   "outputs": [
    {
     "name": "stdout",
     "output_type": "stream",
     "text": [
      "Value Type:  <class 'str'>\n",
      "Number of null values:  12587\n",
      "Number of unique values:  3\n",
      "Top 10 most frequent values: \n",
      " drivetrain\n",
      "\\n, Front, \\n    12066\n",
      "\\n, 4WD, \\n       3252\n",
      "\\n, Rear, \\n      1575\n",
      "Name: count, dtype: int64\n"
     ]
    }
   ],
   "source": [
    "anatomy_of(df, 'drivetrain')"
   ]
  },
  {
   "cell_type": "code",
   "execution_count": 492,
   "id": "4671459f-5ca2-4142-94fa-b6ad6e7f9f66",
   "metadata": {},
   "outputs": [],
   "source": [
    "df['drivetrain'] = df.drivetrain.str.strip(', \\n')"
   ]
  },
  {
   "cell_type": "markdown",
   "id": "342f6ea6-4d52-419e-ba96-c26f0e11dd2a",
   "metadata": {},
   "source": [
    "### cylinders"
   ]
  },
  {
   "cell_type": "code",
   "execution_count": 499,
   "id": "ef34bca7-b4e2-4a20-b454-1c5f331a97be",
   "metadata": {},
   "outputs": [],
   "source": [
    "df['cylinders'] = df.cylinders.map(lambda x: \",\".join(x) if type(x) == list else x)"
   ]
  },
  {
   "cell_type": "code",
   "execution_count": 501,
   "id": "df629cac-1a19-4321-9fb3-6b138f84eb3f",
   "metadata": {},
   "outputs": [
    {
     "name": "stdout",
     "output_type": "stream",
     "text": [
      "Value Type:  <class 'str'>\n",
      "Number of null values:  10628\n",
      "Number of unique values:  12\n",
      "Top 10 most frequent values: \n",
      " cylinders\n",
      "\\n4\\n     13068\n",
      "\\n3\\n      3258\n",
      "\\n6\\n      1013\n",
      "\\n5\\n       799\n",
      "\\n8\\n       539\n",
      "\\n2\\n       103\n",
      "\\n0\\n        35\n",
      "\\n1\\n        21\n",
      "\\n12\\n        8\n",
      "\\n7\\n         6\n",
      "Name: count, dtype: int64\n"
     ]
    }
   ],
   "source": [
    "anatomy_of(df, 'cylinders')"
   ]
  },
  {
   "cell_type": "code",
   "execution_count": 507,
   "id": "a57d10c3-9c41-492d-b251-65e2a06a8ec8",
   "metadata": {},
   "outputs": [],
   "source": [
    "df['cylinders'] = df.cylinders.str.strip('\\n').astype('float')"
   ]
  },
  {
   "cell_type": "markdown",
   "id": "17455dd4-c8fe-4983-ba0a-2f998f29f69b",
   "metadata": {},
   "source": [
    "### fuel_consumption"
   ]
  },
  {
   "cell_type": "code",
   "execution_count": 516,
   "id": "a35dc6a2-9954-4166-b2f8-8e41b3cea15c",
   "metadata": {},
   "outputs": [],
   "source": [
    "import itertools\n",
    "\n",
    "df['fuel_consumption'] = df.fuel_consumption.map(lambda x: \",\".join(list(itertools.chain.from_iterable(x))) if type(x) == list else x)"
   ]
  },
  {
   "cell_type": "code",
   "execution_count": 518,
   "id": "8a776396-ca6d-4ca1-9555-ac1e7dce79e6",
   "metadata": {},
   "outputs": [
    {
     "name": "stdout",
     "output_type": "stream",
     "text": [
      "Value Type:  <class 'str'>\n",
      "Number of null values:  6095\n",
      "Number of unique values:  3452\n",
      "Top 10 most frequent values: \n",
      " fuel_consumption\n",
      "0 l/100 km (comb.)                                                 330\n",
      "0 l/100 km (comb.),0 l/100 km (city),0 l/100 km (country)          306\n",
      "3.4 l/100 km (comb.),3.7 l/100 km (city),3.2 l/100 km (country)    170\n",
      "4 l/100 km (comb.)                                                 149\n",
      "3.9 l/100 km (comb.)                                               133\n",
      "3.8 l/100 km (comb.),4.2 l/100 km (city),3.6 l/100 km (country)    110\n",
      "5.1 l/100 km (comb.),6.4 l/100 km (city),4.3 l/100 km (country)    105\n",
      "5.4 l/100 km (comb.),6.2 l/100 km (city),5 l/100 km (country)      101\n",
      "3.7 l/100 km (comb.),4.4 l/100 km (city),3.3 l/100 km (country)    101\n",
      "4.5 l/100 km (comb.)                                                97\n",
      "Name: count, dtype: int64\n"
     ]
    }
   ],
   "source": [
    "anatomy_of(df, 'fuel_consumption')"
   ]
  },
  {
   "cell_type": "markdown",
   "id": "67b0fd2c-dad8-4492-944d-0ad53b7f140f",
   "metadata": {},
   "source": [
    "### comfort_convenience"
   ]
  },
  {
   "cell_type": "code",
   "execution_count": 529,
   "id": "03baa5b8-8778-4e4a-a482-1721ad4d7e4e",
   "metadata": {},
   "outputs": [],
   "source": [
    "df['comfort_convenience'] = df.comfort_convenience.map(lambda x: \",\".join(x) if type(x) == list else x)"
   ]
  },
  {
   "cell_type": "code",
   "execution_count": 531,
   "id": "4a1551cc-a475-44d6-8ea7-65fcca378f3f",
   "metadata": {},
   "outputs": [
    {
     "name": "stdout",
     "output_type": "stream",
     "text": [
      "Value Type:  <class 'str'>\n",
      "Number of null values:  4047\n",
      "Number of unique values:  14438\n",
      "Top 10 most frequent values: \n",
      " comfort_convenience\n",
      "Air conditioning, Automatic climate control, Electrical side mirrors, Multi-function steering wheel, Power windows                    244\n",
      "Air conditioning, Automatic climate control, Cruise control                                                                           171\n",
      "Air conditioning, Automatic climate control, Cruise control, Electrical side mirrors, Multi-function steering wheel, Power windows    168\n",
      "Air conditioning                                                                                                                      157\n",
      "Power windows                                                                                                                         150\n",
      "Air conditioning, Power windows                                                                                                       146\n",
      "Air conditioning, Automatic climate control, Power windows                                                                            142\n",
      "Air conditioning, Electrical side mirrors, Power windows                                                                              139\n",
      "Air conditioning, Automatic climate control, Electrical side mirrors, Power windows                                                   134\n",
      "Cruise control                                                                                                                        129\n",
      "Name: count, dtype: int64\n"
     ]
    }
   ],
   "source": [
    "anatomy_of(df, 'comfort_convenience')"
   ]
  },
  {
   "cell_type": "markdown",
   "id": "2d037ab6-464e-4227-b2e6-8769e4a97983",
   "metadata": {},
   "source": [
    "### entertainment_media"
   ]
  },
  {
   "cell_type": "code",
   "execution_count": 536,
   "id": "906dba82-6005-4d14-a71a-f54688ee60c2",
   "metadata": {},
   "outputs": [],
   "source": [
    "df['entertainment_media'] = df.entertainment_media.map(lambda x: \",\".join(x) if type(x) == list else x)"
   ]
  },
  {
   "cell_type": "code",
   "execution_count": 538,
   "id": "9c6d3936-be74-4681-a2f3-ba1a1c3b5d63",
   "metadata": {},
   "outputs": [
    {
     "name": "stdout",
     "output_type": "stream",
     "text": [
      "Value Type:  <class 'str'>\n",
      "Number of null values:  5836\n",
      "Number of unique values:  1944\n",
      "Top 10 most frequent values: \n",
      " entertainment_media\n",
      "Bluetooth, USB                                                                                                     753\n",
      "Bluetooth                                                                                                          665\n",
      "On-board computer                                                                                                  662\n",
      "CD player, On-board computer, Radio                                                                                644\n",
      "Radio                                                                                                              425\n",
      "Android Auto, Apple CarPlay, Bluetooth, Digital radio, Hands-free equipment, On-board computer, Radio, USB         414\n",
      "Bluetooth, CD player, Hands-free equipment, MP3, On-board computer, Radio, USB                                     408\n",
      "CD player, Radio                                                                                                   367\n",
      "Android Auto, Apple CarPlay, Bluetooth, Digital radio, Hands-free equipment, MP3, On-board computer, Radio, USB    356\n",
      "Bluetooth, Hands-free equipment, On-board computer, Radio, USB                                                     344\n",
      "Name: count, dtype: int64\n"
     ]
    }
   ],
   "source": [
    "anatomy_of(df, 'entertainment_media')"
   ]
  },
  {
   "cell_type": "markdown",
   "id": "7fb2b8c6-c536-4d8e-b45a-3a6d1935bdef",
   "metadata": {},
   "source": [
    "### safety_security"
   ]
  },
  {
   "cell_type": "code",
   "execution_count": 543,
   "id": "cdd3b654-5542-4eb7-8adc-c6db188a2ff2",
   "metadata": {},
   "outputs": [],
   "source": [
    "df['safety_security'] = df.safety_security.map(lambda x: \",\".join(x) if type(x) == list else x)"
   ]
  },
  {
   "cell_type": "code",
   "execution_count": 545,
   "id": "66769ad1-b08f-468c-bacf-2a124302d6c3",
   "metadata": {},
   "outputs": [
    {
     "name": "stdout",
     "output_type": "stream",
     "text": [
      "Value Type:  <class 'str'>\n",
      "Number of null values:  4065\n",
      "Number of unique values:  12549\n",
      "Top 10 most frequent values: \n",
      " safety_security\n",
      "Isofix                                                                                                                                                                                                                                                                                                                                                                                                                                                                                                                                                                                                                                                    380\n",
      "ABS, Central door lock, Driver-side airbag, Electronic stability control, Immobilizer, Isofix, Passenger-side airbag, Power steering, Side airbag                                                                                                                                                                                                                                                                                                                                                                                                                                                                                                         328\n",
      "ABS, Central door lock, Driver-side airbag, Immobilizer, Isofix, Passenger-side airbag, Power steering, Side airbag, Traction control                                                                                                                                                                                                                                                                                                                                                                                                                                                                                                                     125\n",
      "ABS, Central door lock, Driver-side airbag, Electronic stability control, Fog lights, Isofix, Power steering, Side airbag                                                                                                                                                                                                                                                                                                                                                                                                                                                                                                                                 121\n",
      "ABS, Fog lights, Side airbag                                                                                                                                                                                                                                                                                                                                                                                                                                                                                                                                                                                                                              100\n",
      "ABS, Central door lock, Driver-side airbag, Fog lights, Isofix, Passenger-side airbag, Power steering, Side airbag                                                                                                                                                                                                                                                                                                                                                                                                                                                                                                                                         99\n",
      "Power steering                                                                                                                                                                                                                                                                                                                                                                                                                                                                                                                                                                                                                                             87\n",
      "ABS, Adaptive Cruise Control, Adaptive headlights, Blind spot monitor, Central door lock, Central door lock with remote control, Daytime running lights, Distance warning system, Driver drowsiness detection, Driver-side airbag, Electronic stability control, Emergency brake assistant, Emergency system, Fog lights, Full-LED headlights, Head airbag, High beam assist, Immobilizer, Isofix, LED Daytime Running Lights, LED Headlights, Lane departure warning system, Passenger-side airbag, Power steering, Rear airbag, Side airbag, Speed limit control system, Tire pressure monitoring system, Traction control, Traffic sign recognition     85\n",
      "ABS, Central door lock, Fog lights, Immobilizer, Isofix, Power steering, Side airbag                                                                                                                                                                                                                                                                                                                                                                                                                                                                                                                                                                       84\n",
      "ABS, Central door lock, Daytime running lights, Driver-side airbag, Electronic stability control, Fog lights, Isofix, Passenger-side airbag, Power steering, Side airbag, Traction control                                                                                                                                                                                                                                                                                                                                                                                                                                                                 80\n",
      "Name: count, dtype: int64\n"
     ]
    }
   ],
   "source": [
    "anatomy_of(df, 'safety_security')"
   ]
  },
  {
   "cell_type": "markdown",
   "id": "e377a21a-696d-4dc5-8c21-0e5480580678",
   "metadata": {},
   "source": [
    "### extras"
   ]
  },
  {
   "cell_type": "code",
   "execution_count": 552,
   "id": "34bb6c67-0cd3-4166-8507-b620290b3d02",
   "metadata": {},
   "outputs": [],
   "source": [
    "df['extras'] = df.extras.map(lambda x: \",\".join(x) if type(x) == list else x)"
   ]
  },
  {
   "cell_type": "code",
   "execution_count": 554,
   "id": "b1b55a5c-94c1-4de9-9ac2-b91bcf2ae3b7",
   "metadata": {},
   "outputs": [
    {
     "name": "stdout",
     "output_type": "stream",
     "text": [
      "Value Type:  <class 'str'>\n",
      "Number of null values:  6000\n",
      "Number of unique values:  9360\n",
      "Top 10 most frequent values: \n",
      " extras\n",
      "Alloy wheels                                                      3408\n",
      "Alloy wheels, Roof rack                                            380\n",
      "Alloy wheels, Sport seats                                          372\n",
      "Alloy wheels, Touch screen                                         231\n",
      "Alloy wheels, Catalytic Converter, Touch screen                    178\n",
      "Roof rack                                                          160\n",
      "Alloy wheels, Sport seats, Sport suspension                        157\n",
      "Alloy wheels, Catalytic Converter, Touch screen, Voice Control     153\n",
      "Alloy wheels, Touch screen, Voice Control                          142\n",
      "Alloy wheels (16\")                                                 119\n",
      "Name: count, dtype: int64\n"
     ]
    }
   ],
   "source": [
    "anatomy_of(df, 'extras')"
   ]
  },
  {
   "cell_type": "markdown",
   "id": "878b94b0-2469-4ed2-bd06-f433ece0457b",
   "metadata": {},
   "source": [
    "### empty_weight"
   ]
  },
  {
   "cell_type": "code",
   "execution_count": 563,
   "id": "b7775a8b-e5e6-4cdc-a9fa-85add5f59088",
   "metadata": {},
   "outputs": [],
   "source": [
    "df['empty_weight'] = df.empty_weight.map(lambda x: \",\".join(x) if type(x) == list else x)"
   ]
  },
  {
   "cell_type": "code",
   "execution_count": 565,
   "id": "56f95706-89ce-4dab-8d44-86da0d4be151",
   "metadata": {},
   "outputs": [
    {
     "name": "stdout",
     "output_type": "stream",
     "text": [
      "Value Type:  <class 'str'>\n",
      "Number of null values:  11722\n",
      "Number of unique values:  1218\n",
      "Top 10 most frequent values: \n",
      " empty_weight\n",
      "\\n1,395 kg\\n    233\n",
      "\\n1,055 kg\\n    224\n",
      "\\n1,423 kg\\n    216\n",
      "\\n1,165 kg\\n    200\n",
      "\\n1,320 kg\\n    192\n",
      "\\n1,280 kg\\n    179\n",
      "\\n1,090 kg\\n    129\n",
      "\\n1,370 kg\\n    120\n",
      "\\n1,615 kg\\n    113\n",
      "\\n1,310 kg\\n    112\n",
      "Name: count, dtype: int64\n"
     ]
    }
   ],
   "source": [
    "anatomy_of(df, 'empty_weight')"
   ]
  },
  {
   "cell_type": "code",
   "execution_count": 573,
   "id": "a6351a69-29a2-48f4-9ccc-fd681ceee711",
   "metadata": {},
   "outputs": [],
   "source": [
    "df['empty_weight'] = df.empty_weight.str.strip(' kg\\n').str.replace(',', '').astype('float')"
   ]
  },
  {
   "cell_type": "markdown",
   "id": "d7a9ce29-81a0-489d-98c5-fed69554c2b2",
   "metadata": {},
   "source": [
    "### general_inspection"
   ]
  },
  {
   "cell_type": "code",
   "execution_count": 578,
   "id": "6362a183-1fd4-4c39-91d2-2509d4d100cb",
   "metadata": {},
   "outputs": [
    {
     "name": "stdout",
     "output_type": "stream",
     "text": [
      "Value Type:  <class 'str'>\n",
      "Number of null values:  17226\n",
      "Number of unique values:  91\n",
      "Top 10 most frequent values: \n",
      " general_inspection\n",
      "New        5883\n",
      "05/2023     286\n",
      "08/2023     280\n",
      "03/2023     268\n",
      "06/2023     266\n",
      "04/2023     262\n",
      "09/2023     255\n",
      "07/2023     254\n",
      "06/2024     216\n",
      "05/2024     212\n",
      "Name: count, dtype: int64\n"
     ]
    }
   ],
   "source": [
    "anatomy_of(df, 'general_inspection')"
   ]
  },
  {
   "cell_type": "markdown",
   "id": "38d53211-ee38-46ea-a6dc-4e8dac6461b8",
   "metadata": {},
   "source": [
    "### full_service_history"
   ]
  },
  {
   "cell_type": "code",
   "execution_count": 583,
   "id": "8c516d0f-7f81-4ce0-9f53-7cd556edb800",
   "metadata": {},
   "outputs": [
    {
     "name": "stdout",
     "output_type": "stream",
     "text": [
      "Value Type:  <class 'str'>\n",
      "Number of null values:  16915\n",
      "Number of unique values:  1\n",
      "Top 10 most frequent values: \n",
      " full_service_history\n",
      "Yes    12565\n",
      "Name: count, dtype: int64\n"
     ]
    }
   ],
   "source": [
    "anatomy_of(df, 'full_service_history')"
   ]
  },
  {
   "cell_type": "markdown",
   "id": "4a348b53-4322-4f28-8605-54199a84f1ae",
   "metadata": {},
   "source": [
    "### non_smoker_vehicle"
   ]
  },
  {
   "cell_type": "code",
   "execution_count": 586,
   "id": "1810d714-b994-481f-9746-599a307e855e",
   "metadata": {},
   "outputs": [
    {
     "name": "stdout",
     "output_type": "stream",
     "text": [
      "Value Type:  <class 'str'>\n",
      "Number of null values:  17886\n",
      "Number of unique values:  1\n",
      "Top 10 most frequent values: \n",
      " non_smoker_vehicle\n",
      "Yes    11594\n",
      "Name: count, dtype: int64\n"
     ]
    }
   ],
   "source": [
    "anatomy_of(df, 'non_smoker_vehicle')"
   ]
  },
  {
   "cell_type": "markdown",
   "id": "e3598d7b-90ae-40d8-b1ac-48733e2436d5",
   "metadata": {},
   "source": [
    "### emission_class"
   ]
  },
  {
   "cell_type": "code",
   "execution_count": 589,
   "id": "84e9119b-7e1b-4688-b66e-b50a175268cc",
   "metadata": {},
   "outputs": [
    {
     "name": "stdout",
     "output_type": "stream",
     "text": [
      "Value Type:  <class 'str'>\n",
      "Number of null values:  11621\n",
      "Number of unique values:  9\n",
      "Top 10 most frequent values: \n",
      " emission_class\n",
      "Euro 6          6418\n",
      "Euro 6d-TEMP    3399\n",
      "Euro 6d         2858\n",
      "Euro 5          2389\n",
      "Euro 4          1743\n",
      "Euro 3           523\n",
      "Euro 2           217\n",
      "Euro 1           172\n",
      "Euro 6c          140\n",
      "Name: count, dtype: int64\n"
     ]
    }
   ],
   "source": [
    "anatomy_of(df, 'emission_class')"
   ]
  },
  {
   "cell_type": "markdown",
   "id": "08056da2-f364-40c5-b566-8e32e7828bec",
   "metadata": {},
   "source": [
    "### emissions_sticker"
   ]
  },
  {
   "cell_type": "code",
   "execution_count": 592,
   "id": "2b8231b8-a739-4a2d-a940-20980453e751",
   "metadata": {},
   "outputs": [
    {
     "name": "stdout",
     "output_type": "stream",
     "text": [
      "Value Type:  <class 'str'>\n",
      "Number of null values:  20066\n",
      "Number of unique values:  4\n",
      "Top 10 most frequent values: \n",
      " emissions_sticker\n",
      "4 (Green)         9230\n",
      "1 (No sticker)     176\n",
      "3 (Yellow)           6\n",
      "2 (Red)              2\n",
      "Name: count, dtype: int64\n"
     ]
    }
   ],
   "source": [
    "anatomy_of(df, 'emissions_sticker')"
   ]
  },
  {
   "cell_type": "markdown",
   "id": "a715c7a0-a7de-47c6-9c13-cc3553f3af04",
   "metadata": {},
   "source": [
    "### upholstery_color"
   ]
  },
  {
   "cell_type": "code",
   "execution_count": 595,
   "id": "072a26bd-226a-47bb-a953-008cf73150eb",
   "metadata": {},
   "outputs": [
    {
     "name": "stdout",
     "output_type": "stream",
     "text": [
      "Value Type:  <class 'str'>\n",
      "Number of null values:  14911\n",
      "Number of unique values:  11\n",
      "Top 10 most frequent values: \n",
      " upholstery_color\n",
      "Black     10416\n",
      "Grey       2038\n",
      "Other      1003\n",
      "Beige       466\n",
      "Brown       275\n",
      "Red         159\n",
      "White        93\n",
      "Blue         82\n",
      "Orange       23\n",
      "Green         8\n",
      "Name: count, dtype: int64\n"
     ]
    }
   ],
   "source": [
    "anatomy_of(df, 'upholstery_color')"
   ]
  },
  {
   "cell_type": "markdown",
   "id": "4751272f-9acf-47c6-927f-fe3b3868147b",
   "metadata": {},
   "source": [
    "### upholstery"
   ]
  },
  {
   "cell_type": "code",
   "execution_count": 598,
   "id": "3dce23fa-9780-4233-a21a-07fe378d475d",
   "metadata": {},
   "outputs": [
    {
     "name": "stdout",
     "output_type": "stream",
     "text": [
      "Value Type:  <class 'str'>\n",
      "Number of null values:  10870\n",
      "Number of unique values:  6\n",
      "Top 10 most frequent values: \n",
      " upholstery\n",
      "Cloth           8736\n",
      "Full leather    5439\n",
      "Part leather    2835\n",
      "alcantara        764\n",
      "Other            628\n",
      "Velour           208\n",
      "Name: count, dtype: int64\n"
     ]
    }
   ],
   "source": [
    "anatomy_of(df, 'upholstery')"
   ]
  },
  {
   "cell_type": "code",
   "execution_count": 602,
   "id": "b4c7f37d-1642-4c01-9641-3a451ea1bcaa",
   "metadata": {},
   "outputs": [],
   "source": [
    "df['upholstery'] = df.upholstery.str.title()"
   ]
  },
  {
   "cell_type": "markdown",
   "id": "5dbec897-c2aa-4221-a286-b4e76b032b98",
   "metadata": {},
   "source": [
    "### previous_owner"
   ]
  },
  {
   "cell_type": "code",
   "execution_count": 617,
   "id": "b6671579-57d1-49c9-8569-c9a96c4c2f3c",
   "metadata": {},
   "outputs": [],
   "source": [
    "df['previous_owner'] = df.previous_owner.map(lambda x: x[1] if type(x) == list else x).astype('float')"
   ]
  },
  {
   "cell_type": "code",
   "execution_count": 619,
   "id": "750a8ac1-803c-48bf-bf5d-6ce38389cfe7",
   "metadata": {},
   "outputs": [
    {
     "name": "stdout",
     "output_type": "stream",
     "text": [
      "Value Type:  <class 'numpy.float64'>\n",
      "Number of null values:  15465\n",
      "Number of unique values:  13\n",
      "Top 10 most frequent values: \n",
      " previous_owner\n",
      "1.0     9746\n",
      "2.0     3221\n",
      "3.0      699\n",
      "4.0      184\n",
      "5.0       69\n",
      "6.0       37\n",
      "7.0       22\n",
      "8.0       16\n",
      "9.0       14\n",
      "12.0       3\n",
      "Name: count, dtype: int64\n"
     ]
    }
   ],
   "source": [
    "anatomy_of(df, 'previous_owner')"
   ]
  },
  {
   "cell_type": "markdown",
   "id": "845933b3-2fb4-47db-9c9d-51bf11234ab3",
   "metadata": {},
   "source": [
    "### Saving Final Version"
   ]
  },
  {
   "cell_type": "code",
   "execution_count": 649,
   "id": "341b8df3-a7ff-4ea9-8439-80d5c489a0d5",
   "metadata": {},
   "outputs": [],
   "source": [
    "df.to_csv('car_project_clean.csv', index=False)"
   ]
  }
 ],
 "metadata": {
  "kernelspec": {
   "display_name": "Python [conda env:base] *",
   "language": "python",
   "name": "conda-base-py"
  },
  "language_info": {
   "codemirror_mode": {
    "name": "ipython",
    "version": 3
   },
   "file_extension": ".py",
   "mimetype": "text/x-python",
   "name": "python",
   "nbconvert_exporter": "python",
   "pygments_lexer": "ipython3",
   "version": "3.12.7"
  }
 },
 "nbformat": 4,
 "nbformat_minor": 5
}
